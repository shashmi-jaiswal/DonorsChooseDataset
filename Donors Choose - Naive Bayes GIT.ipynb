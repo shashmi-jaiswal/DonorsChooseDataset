{
 "cells": [
  {
   "cell_type": "markdown",
   "metadata": {
    "colab_type": "text",
    "id": "Dnubs-Nnb3cw"
   },
   "source": [
    "# Donors Choose -  Apply NB"
   ]
  },
  {
   "cell_type": "markdown",
   "metadata": {
    "colab_type": "text",
    "id": "RW0zYHb5m_wI"
   },
   "source": [
    "<ol>\n",
    "    <li>Minimum data points need to be considered for people having 4GB RAM is <strong>50k</strong> and for 8GB RAM is <strong>100k</strong></li>\n",
    "    <li>When you are using ramdomsearchcv or gridsearchcv you need not split the data into X_train,X_cv,X_test. As the above methods use kfold. The model will learn better if train data is more so splitting to X_train,X_test will suffice.</li>\n",
    "    <li>If you are writing for loops to tune your model then you need split the data into X_train,X_cv,X_test.</li>\n",
    "    <li>While splitting the data explore stratify parameter. </li>\n",
    "    <li><strong>Apply Multinomial NB on these feature sets</strong></li>\n",
    "        <ul>\n",
    "            <li>Features that need to be considered</li> \n",
    "                <dl>\n",
    "                  <dt>essay</dt>\n",
    "                    <dd>while encoding essay, try to experiment with the max_features and n_grams parameter of vectorizers and see if it increases AUC score.</dd>\n",
    "                  <dt>categorical features</dt>\n",
    "                  <dd> - teacher_prefix</dd>\n",
    "                  <dd> - project_grade_category</dd>\n",
    "                  <dd> - school_state</dd>\n",
    "                  <dd> - clean_categories</dd>\n",
    "                  <dd> - clean_subcategories</dd>\n",
    "                  <dt>numerical features</dt>\n",
    "                  <dd> - price</dd>\n",
    "                  <dd> - teacher_number_of_previously_posted_projects</dd>\n",
    "                  <dd>while encoding the numerical features check <a href='https://imgur.com/ldZA1zg'>this</a> and <a href='https://ac-classroom-production.s3.amazonaws.com/public/COMMENT/Annotation_2020-05-21_225912_0lyZzN8.jpg'>this</a></dd>\n",
    "                </dl>    \n",
    "            <li><font color='red'>Set 1</font>: categorical, numerical features + preprocessed_eassay (BOW)</li>\n",
    "            <li><font color='red'>Set 2</font>: categorical, numerical features + preprocessed_eassay (TFIDF)</li>\n",
    "        </ul>\n",
    "    <li><strong>The hyper paramter tuning(find best alpha:smoothing parameter)</strong>\n",
    "        <ul>\n",
    "    <li>Consider alpha values in range: 10^-5 to 10^2 like [0.00001,0.0005, 0.0001,0.005,0.001,0.05,0.01,0.1,0.5,1,5,10,50,100]</li>\n",
    "    <li>Explore class_prior = [0.5, 0.5] parameter which can be present in MultinomialNB function(go through <a href='https://scikit-learn.org/stable/modules/generated/sklearn.naive_bayes.MultinomialNB.html'>this</a> ) then check how results might change.\n",
    "    <li>Find the best hyper parameter which will give the maximum <a href='https://www.appliedaicourse.com/course/applied-ai-course-online/lessons/receiver-operating-characteristic-curve-roc-curve-and-auc-1/'>AUC</a> value</li>\n",
    "    <li>For hyper parameter tuning using k-fold cross validation(use GridsearchCV or RandomsearchCV)/simple cross validation data (write for loop to iterate over hyper parameter values)</li>\n",
    "    <li>You need to plot the performance of model both on train data and cross validation data for each hyper parameter, like shown in the figure\n",
    "    <img src='https://i.imgur.com/hUv6aEy.jpg' width=300px><dd>-while plotting take log(alpha) on your X-axis so that it will be more readable</dd></li>\n",
    "    <li>Once after you found the best hyper parameter, you need to train your model with it, and find the AUC on test data and plot the ROC curve on both train and test.\n",
    "    <img src='https://imgur.com/q2P65L5.jpg' width=300px></li>\n",
    "    <li>Along with plotting ROC curve, you need to print the <a href='https://www.appliedaicourse.com/course/applied-ai-course-online/lessons/confusion-matrix-tpr-fpr-fnr-tnr-1/'>confusion matrix</a> with predicted and original labels of test data points\n",
    "        <img src='https://i.imgur.com/IdN5Ctv.png' width=300px><dd>-plot the confusion matrix in heatmaps, while plotting the confusion matrix go through the <a href='https://stackoverflow.com/questions/61748441/how-to-fix-the-values-displayed-in-a-confusion-matrix-in-exponential-form-to-nor'>link </a>\n",
    "</dd></li>\n",
    "        </ul>\n",
    "<li>find the top 20 features from either from feature <font color='red'>Set 1</font> or feature <font color='red'>Set 2</font> using values of `feature_log_prob_ ` parameter of `MultinomialNB` \n",
    "(https://scikit-learn.org/stable/modules/generated/sklearn.naive_bayes.MultinomialNB.html) and print <strong>BOTH</strong> positive as well as negative corresponding feature names. <dd> - go through the <a href='https://imgur.com/mWvE7gj'>link </a> </dd>\n",
    "    </li>\n"
   ]
  },
  {
   "cell_type": "code",
   "execution_count": 1,
   "metadata": {
    "colab": {},
    "colab_type": "code",
    "id": "chpSjDaXm9KG"
   },
   "outputs": [],
   "source": [
    "import warnings\n",
    "warnings.filterwarnings(\"ignore\")\n",
    "import pandas as pd\n",
    "import numpy as np\n",
    "import matplotlib.pyplot as plt\n",
    "import seaborn as sns\n",
    "\n",
    "\n",
    "from sklearn.model_selection import train_test_split\n",
    "from sklearn.feature_extraction.text import CountVectorizer\n",
    "from sklearn.feature_extraction.text import TfidfVectorizer\n",
    "from sklearn.preprocessing import Normalizer\n",
    "\n",
    "from scipy.sparse import hstack\n",
    "\n"
   ]
  },
  {
   "cell_type": "markdown",
   "metadata": {
    "colab_type": "text",
    "id": "inzYCIaib3c3"
   },
   "source": [
    "<h1>2. Naive Bayes </h1>"
   ]
  },
  {
   "cell_type": "markdown",
   "metadata": {
    "colab_type": "text",
    "id": "FYqCIxzFb3c5"
   },
   "source": [
    "## 1.1 Loading Data"
   ]
  },
  {
   "cell_type": "code",
   "execution_count": 2,
   "metadata": {
    "colab": {},
    "colab_type": "code",
    "id": "dA1jknyqb3c_"
   },
   "outputs": [
    {
     "name": "stdout",
     "output_type": "stream",
     "text": [
      "DONORS CHOOSE DATASET\n",
      "The shape of the data being used is  (50000, 9)\n"
     ]
    },
    {
     "data": {
      "text/html": [
       "<div>\n",
       "<style scoped>\n",
       "    .dataframe tbody tr th:only-of-type {\n",
       "        vertical-align: middle;\n",
       "    }\n",
       "\n",
       "    .dataframe tbody tr th {\n",
       "        vertical-align: top;\n",
       "    }\n",
       "\n",
       "    .dataframe thead th {\n",
       "        text-align: right;\n",
       "    }\n",
       "</style>\n",
       "<table border=\"1\" class=\"dataframe\">\n",
       "  <thead>\n",
       "    <tr style=\"text-align: right;\">\n",
       "      <th></th>\n",
       "      <th>school_state</th>\n",
       "      <th>teacher_prefix</th>\n",
       "      <th>project_grade_category</th>\n",
       "      <th>teacher_number_of_previously_posted_projects</th>\n",
       "      <th>project_is_approved</th>\n",
       "      <th>clean_categories</th>\n",
       "      <th>clean_subcategories</th>\n",
       "      <th>essay</th>\n",
       "      <th>price</th>\n",
       "    </tr>\n",
       "  </thead>\n",
       "  <tbody>\n",
       "    <tr>\n",
       "      <th>0</th>\n",
       "      <td>ca</td>\n",
       "      <td>mrs</td>\n",
       "      <td>grades_prek_2</td>\n",
       "      <td>53</td>\n",
       "      <td>1</td>\n",
       "      <td>math_science</td>\n",
       "      <td>appliedsciences health_lifescience</td>\n",
       "      <td>i fortunate enough use fairy tale stem kits cl...</td>\n",
       "      <td>725.05</td>\n",
       "    </tr>\n",
       "    <tr>\n",
       "      <th>1</th>\n",
       "      <td>ut</td>\n",
       "      <td>ms</td>\n",
       "      <td>grades_3_5</td>\n",
       "      <td>4</td>\n",
       "      <td>1</td>\n",
       "      <td>specialneeds</td>\n",
       "      <td>specialneeds</td>\n",
       "      <td>imagine 8 9 years old you third grade classroo...</td>\n",
       "      <td>213.03</td>\n",
       "    </tr>\n",
       "    <tr>\n",
       "      <th>2</th>\n",
       "      <td>ca</td>\n",
       "      <td>mrs</td>\n",
       "      <td>grades_prek_2</td>\n",
       "      <td>10</td>\n",
       "      <td>1</td>\n",
       "      <td>literacy_language</td>\n",
       "      <td>literacy</td>\n",
       "      <td>having class 24 students comes diverse learner...</td>\n",
       "      <td>329.00</td>\n",
       "    </tr>\n",
       "  </tbody>\n",
       "</table>\n",
       "</div>"
      ],
      "text/plain": [
       "  school_state teacher_prefix project_grade_category  \\\n",
       "0           ca            mrs          grades_prek_2   \n",
       "1           ut             ms             grades_3_5   \n",
       "2           ca            mrs          grades_prek_2   \n",
       "\n",
       "   teacher_number_of_previously_posted_projects  project_is_approved  \\\n",
       "0                                            53                    1   \n",
       "1                                             4                    1   \n",
       "2                                            10                    1   \n",
       "\n",
       "    clean_categories                 clean_subcategories  \\\n",
       "0       math_science  appliedsciences health_lifescience   \n",
       "1       specialneeds                        specialneeds   \n",
       "2  literacy_language                            literacy   \n",
       "\n",
       "                                               essay   price  \n",
       "0  i fortunate enough use fairy tale stem kits cl...  725.05  \n",
       "1  imagine 8 9 years old you third grade classroo...  213.03  \n",
       "2  having class 24 students comes diverse learner...  329.00  "
      ]
     },
     "execution_count": 2,
     "metadata": {},
     "output_type": "execute_result"
    }
   ],
   "source": [
    "data = pd.read_csv('preprocessed_data.csv',nrows = 50000)\n",
    "print(\"DONORS CHOOSE DATASET\")\n",
    "print(\"The shape of the data being used is \", data.shape)\n",
    "data.head(3)\n"
   ]
  },
  {
   "cell_type": "code",
   "execution_count": 3,
   "metadata": {},
   "outputs": [
    {
     "name": "stdout",
     "output_type": "stream",
     "text": [
      "The shapes of X is (50000, 8)\n",
      "The shape of y is  (50000,)\n"
     ]
    },
    {
     "data": {
      "text/html": [
       "<div>\n",
       "<style scoped>\n",
       "    .dataframe tbody tr th:only-of-type {\n",
       "        vertical-align: middle;\n",
       "    }\n",
       "\n",
       "    .dataframe tbody tr th {\n",
       "        vertical-align: top;\n",
       "    }\n",
       "\n",
       "    .dataframe thead th {\n",
       "        text-align: right;\n",
       "    }\n",
       "</style>\n",
       "<table border=\"1\" class=\"dataframe\">\n",
       "  <thead>\n",
       "    <tr style=\"text-align: right;\">\n",
       "      <th></th>\n",
       "      <th>school_state</th>\n",
       "      <th>teacher_prefix</th>\n",
       "      <th>project_grade_category</th>\n",
       "      <th>teacher_number_of_previously_posted_projects</th>\n",
       "      <th>clean_categories</th>\n",
       "      <th>clean_subcategories</th>\n",
       "      <th>essay</th>\n",
       "      <th>price</th>\n",
       "    </tr>\n",
       "  </thead>\n",
       "  <tbody>\n",
       "    <tr>\n",
       "      <th>0</th>\n",
       "      <td>ca</td>\n",
       "      <td>mrs</td>\n",
       "      <td>grades_prek_2</td>\n",
       "      <td>53</td>\n",
       "      <td>math_science</td>\n",
       "      <td>appliedsciences health_lifescience</td>\n",
       "      <td>i fortunate enough use fairy tale stem kits cl...</td>\n",
       "      <td>725.05</td>\n",
       "    </tr>\n",
       "    <tr>\n",
       "      <th>1</th>\n",
       "      <td>ut</td>\n",
       "      <td>ms</td>\n",
       "      <td>grades_3_5</td>\n",
       "      <td>4</td>\n",
       "      <td>specialneeds</td>\n",
       "      <td>specialneeds</td>\n",
       "      <td>imagine 8 9 years old you third grade classroo...</td>\n",
       "      <td>213.03</td>\n",
       "    </tr>\n",
       "    <tr>\n",
       "      <th>2</th>\n",
       "      <td>ca</td>\n",
       "      <td>mrs</td>\n",
       "      <td>grades_prek_2</td>\n",
       "      <td>10</td>\n",
       "      <td>literacy_language</td>\n",
       "      <td>literacy</td>\n",
       "      <td>having class 24 students comes diverse learner...</td>\n",
       "      <td>329.00</td>\n",
       "    </tr>\n",
       "  </tbody>\n",
       "</table>\n",
       "</div>"
      ],
      "text/plain": [
       "  school_state teacher_prefix project_grade_category  \\\n",
       "0           ca            mrs          grades_prek_2   \n",
       "1           ut             ms             grades_3_5   \n",
       "2           ca            mrs          grades_prek_2   \n",
       "\n",
       "   teacher_number_of_previously_posted_projects   clean_categories  \\\n",
       "0                                            53       math_science   \n",
       "1                                             4       specialneeds   \n",
       "2                                            10  literacy_language   \n",
       "\n",
       "                  clean_subcategories  \\\n",
       "0  appliedsciences health_lifescience   \n",
       "1                        specialneeds   \n",
       "2                            literacy   \n",
       "\n",
       "                                               essay   price  \n",
       "0  i fortunate enough use fairy tale stem kits cl...  725.05  \n",
       "1  imagine 8 9 years old you third grade classroo...  213.03  \n",
       "2  having class 24 students comes diverse learner...  329.00  "
      ]
     },
     "execution_count": 3,
     "metadata": {},
     "output_type": "execute_result"
    }
   ],
   "source": [
    "y = data['project_is_approved'].values\n",
    "X= data.drop(['project_is_approved'],axis = 1)\n",
    "print(\"The shapes of X is\",X.shape)\n",
    "print(\"The shape of y is \",y.shape)\n",
    "#y #Array is created\n",
    "X.head(3)\n"
   ]
  },
  {
   "cell_type": "markdown",
   "metadata": {
    "colab_type": "text",
    "id": "WtVV13Fyb3dH"
   },
   "source": [
    "<h2>1.2 Splitting data into Train and cross validation(or test): Stratified Sampling</h2>"
   ]
  },
  {
   "cell_type": "code",
   "execution_count": 4,
   "metadata": {
    "colab": {},
    "colab_type": "code",
    "id": "i-PyprDNb3dI"
   },
   "outputs": [
    {
     "name": "stdout",
     "output_type": "stream",
     "text": [
      "Shapes of the data is:\n",
      "X_train: (33500, 8)\n",
      "X-test: (16500, 8)\n",
      "\n",
      "Y_train: (33500,)\n",
      "Y_test: (16500,)\n"
     ]
    }
   ],
   "source": [
    "from sklearn.model_selection import train_test_split\n",
    "\n",
    "X_train, X_test, Y_train, Y_test = train_test_split(X,y, test_size = 0.33, stratify = y)\n",
    "print(\"Shapes of the data is:\")\n",
    "print(\"X_train:\", X_train.shape)\n",
    "print(\"X-test:\", X_test.shape)\n",
    "\n",
    "print(\"\\nY_train:\", Y_train.shape)\n",
    "print(\"Y_test:\", Y_test.shape)\n",
    "\n",
    "#Further split the train data to Dtrain and Dcv. Will use these for encoding numerical, categrical and text features.\n",
    "#Wont be needed as we are using RandomSearch CV for hyper paramter training\n",
    "#X_train, X_cv, y_train, y_cv = train_test_split(X_train, Y_train, test_size = 0.33, stratify = Y_train)\n",
    "    "
   ]
  },
  {
   "cell_type": "markdown",
   "metadata": {
    "colab_type": "text",
    "id": "EnZwVNULb3dO"
   },
   "source": [
    "<h2>1.3 Make Data Model Ready: encoding essay</h2>"
   ]
  },
  {
   "cell_type": "code",
   "execution_count": 5,
   "metadata": {
    "colab": {},
    "colab_type": "code",
    "id": "-SczZKiab3dR"
   },
   "outputs": [
    {
     "name": "stdout",
     "output_type": "stream",
     "text": [
      "Shapes of the data after vectorization is :\n",
      "X_train,y_train: (33500, 5000) (33500,)\n",
      "X_test, Y_test  (16500, 5000) (16500,)\n"
     ]
    }
   ],
   "source": [
    "#Encoding/Vectorizing Essay\n",
    "#Bag of Words (bow)\n",
    "#Can take a couple of seconds to copute the result. If it takes too long(more than a minute, close the Notebook and try again)\n",
    "\n",
    "from sklearn.feature_extraction.text import CountVectorizer\n",
    "\n",
    "\n",
    "vectorizer_essay_1 = CountVectorizer(min_df = 10, ngram_range=(1,4), max_features = 5000)\n",
    "vectorizer_essay_1.fit(X_train['essay'].values)\n",
    "\n",
    "#print(vectorizer_essay_1.get_feature_names())\n",
    "\n",
    "X_train_bow = vectorizer_essay_1.transform(X_train['essay'].values)\n",
    "#X_cv_bow = vectorizer_essay_1.transform(X_cv['essay'].values)\n",
    "X_test_bow = vectorizer_essay_1.transform(X_test['essay'].values)\n",
    "\n",
    "print(\"Shapes of the data after vectorization is :\")\n",
    "print(\"X_train,y_train:\", X_train_bow.shape, Y_train.shape)\n",
    "print(\"X_test, Y_test \", X_test_bow.shape, Y_test.shape)\n"
   ]
  },
  {
   "cell_type": "code",
   "execution_count": 6,
   "metadata": {},
   "outputs": [
    {
     "name": "stdout",
     "output_type": "stream",
     "text": [
      "\n",
      "Shapes of the data after vectorization is :\n",
      "x_train,y_train: (33500, 5000) (33500,)\n",
      "X_test, y_test  (16500, 5000) (16500,)\n"
     ]
    }
   ],
   "source": [
    "#Encoding/Vectorizing Essay\n",
    "#tf_idf Vectorizer\n",
    "#Comment : takes a few seconds to compute the result\n",
    "\n",
    "from sklearn.feature_extraction.text import TfidfVectorizer\n",
    "\n",
    "\n",
    "vectorizer_essay_2 = TfidfVectorizer(min_df = 10, ngram_range=(1,4), max_features = 5000)\n",
    "vectorizer_essay_2.fit(X_train['essay'].values)\n",
    "\n",
    "#print(vectorizer.get_feature_names())\n",
    "\n",
    "X_train_tfidf = vectorizer_essay_2.transform(X_train['essay'].values)\n",
    "#X_cv_tfidf = vectorizer_essay_2.transform(X_cv['essay'].values)\n",
    "X_test_tfidf = vectorizer_essay_2.transform(X_test['essay'].values)\n",
    "\n",
    "print(\"\\nShapes of the data after vectorization is :\")\n",
    "print(\"x_train,y_train:\", X_train_tfidf.shape, Y_train.shape)\n",
    "#print(\"x_cv, y_cv:    \", X_cv_tfidf.shape, Y_cv.shape)\n",
    "print(\"X_test, y_test \", X_test_tfidf.shape, Y_test.shape)\n"
   ]
  },
  {
   "cell_type": "markdown",
   "metadata": {
    "colab_type": "text",
    "id": "bGy86kgHb3dX"
   },
   "source": [
    "<h2>1.4 Make Data Model Ready: encoding numerical, categorical features</h2>"
   ]
  },
  {
   "cell_type": "code",
   "execution_count": 7,
   "metadata": {},
   "outputs": [
    {
     "name": "stdout",
     "output_type": "stream",
     "text": [
      "Teacher_prefix - One Hot Encoding\n",
      "['dr', 'mr', 'mrs', 'ms', 'teacher']\n",
      "\n",
      "Shapes of data\n",
      "(33500, 5)\n",
      "(16500, 5)\n"
     ]
    }
   ],
   "source": [
    "#Encoding Categorical Features\n",
    "# Teacher Prefix -OneHotEncoding\n",
    "\n",
    "print(\"Teacher_prefix - One Hot Encoding\")\n",
    "vectorizer_tea_pre = CountVectorizer()\n",
    "vectorizer_tea_pre.fit(X_train['teacher_prefix'].values)\n",
    "print(vectorizer_tea_pre.get_feature_names())\n",
    "\n",
    "X_train_tea_pre_ohe = vectorizer_tea_pre.transform(X_train['teacher_prefix'].values)\n",
    "#X_cv_tea_pre_ohe = vectorizer_tea_pre.transform(X_cv['teacher_prefix'].values)\n",
    "X_test_tea_pre_ohe = vectorizer_tea_pre.transform(X_test['teacher_prefix'].values)\n",
    "\n",
    "print(\"\\nShapes of data\")\n",
    "print(X_train_tea_pre_ohe.shape)\n",
    "#print(X_cv_tea_pre_ohe.shape)\n",
    "print(X_test_tea_pre_ohe.shape)"
   ]
  },
  {
   "cell_type": "code",
   "execution_count": 8,
   "metadata": {
    "colab": {},
    "colab_type": "code",
    "id": "EfXkofX1b3da"
   },
   "outputs": [
    {
     "name": "stdout",
     "output_type": "stream",
     "text": [
      "project_grade_category - One Hot Encoding\n",
      "['grades_3_5', 'grades_6_8', 'grades_9_12', 'grades_prek_2']\n",
      "\n",
      "Shapes of the data:\n",
      "(33500, 4)\n",
      "(16500, 4)\n"
     ]
    }
   ],
   "source": [
    "#project_grade_category \n",
    "#One Hot Encoding\n",
    "print(\"project_grade_category - One Hot Encoding\")\n",
    "\n",
    "vectorizer_pro_gra_ohe = CountVectorizer()\n",
    "vectorizer_pro_gra_ohe.fit(X_train['project_grade_category'].values)\n",
    "print(vectorizer_pro_gra_ohe.get_feature_names())\n",
    "\n",
    "\n",
    "X_train_pro_gra_ohe = vectorizer_pro_gra_ohe.transform(X_train['project_grade_category'].values)\n",
    "#X_cv_pro_gra_ohe = vectorizer_pro_gra_ohe.transform(X_cv['project_grade_category'].values)\n",
    "X_test_pro_gra_ohe = vectorizer_pro_gra_ohe.transform(X_test['project_grade_category'].values)\n",
    "\n",
    "print(\"\\nShapes of the data:\")\n",
    "print(X_train_pro_gra_ohe.shape)\n",
    "#print(X_cv_pro_gra_ohe.shape)\n",
    "print(X_test_pro_gra_ohe.shape)"
   ]
  },
  {
   "cell_type": "code",
   "execution_count": 12,
   "metadata": {
    "scrolled": true
   },
   "outputs": [
    {
     "name": "stdout",
     "output_type": "stream",
     "text": [
      "school_state - One Hot Encoding\n",
      "\n",
      "['ak', 'al', 'ar', 'az', 'ca', 'co', 'ct', 'dc', 'de', 'fl', 'ga', 'hi', 'ia', 'id', 'il', 'in', 'ks', 'ky', 'la', 'ma', 'md', 'me', 'mi', 'mn', 'mo', 'ms', 'mt', 'nc', 'nd', 'ne', 'nh', 'nj', 'nm', 'nv', 'ny', 'oh', 'ok', 'or', 'pa', 'ri', 'sc', 'sd', 'tn', 'tx', 'ut', 'va', 'vt', 'wa', 'wi', 'wv', 'wy']\n",
      "\n",
      "Shapes of data\n",
      "(33500, 51)\n",
      "(16500, 51)\n"
     ]
    }
   ],
   "source": [
    "#school_state \n",
    "#One Hot Encoding\n",
    "\n",
    "print(\"school_state - One Hot Encoding\\n\")\n",
    "vectorizer_state_ohe = CountVectorizer()\n",
    "vectorizer_state_ohe.fit(X_train['school_state'].values)\n",
    "print(vectorizer_state_ohe.get_feature_names())\n",
    "\n",
    "X_train_state_ohe = vectorizer_state_ohe.transform(X_train['school_state'].values)\n",
    "#X_cv_state_ohe = vectorizer_state_ohe.transform(X_cv['school_state'].values)\n",
    "X_test_state_ohe = vectorizer_state_ohe.transform(X_test['school_state'].values)\n",
    "\n",
    "print(\"\\nShapes of data\")\n",
    "print(X_train_state_ohe.shape)\n",
    "#print(X_cv_state_ohe.shape)\n",
    "print(X_test_state_ohe.shape)"
   ]
  },
  {
   "cell_type": "code",
   "execution_count": 13,
   "metadata": {},
   "outputs": [
    {
     "name": "stdout",
     "output_type": "stream",
     "text": [
      "clean_categories - One Hot Encoding/n\n",
      "['appliedlearning', 'care_hunger', 'health_sports', 'history_civics', 'literacy_language', 'math_science', 'music_arts', 'specialneeds', 'warmth']\n",
      "\n",
      "Shapes of data\n",
      "(33500, 9)\n",
      "(16500, 9)\n"
     ]
    }
   ],
   "source": [
    "#clean_categories \n",
    "#One Hot Encoding\n",
    "print(\"clean_categories - One Hot Encoding/n\")\n",
    "\n",
    "vectorizer_clean_cat_ohe = CountVectorizer()\n",
    "vectorizer_clean_cat_ohe.fit(X_train['clean_categories'].values)\n",
    "print(vectorizer_clean_cat_ohe.get_feature_names())\n",
    "\n",
    "X_train_clean_cat_ohe = vectorizer_clean_cat_ohe.transform(X_train['clean_categories'].values)\n",
    "#X_cv_clean_cat_ohe = vectorizer_clean_cat_ohe.transform(X_cv['clean_categories'].values)\n",
    "X_test_clean_cat_ohe = vectorizer_clean_cat_ohe.transform(X_test['clean_categories'].values)\n",
    "\n",
    "print(\"\\nShapes of data\")\n",
    "print(X_train_clean_cat_ohe.shape)\n",
    "#print(X_cv_clean_cat_ohe.shape)\n",
    "print(X_test_clean_cat_ohe.shape)"
   ]
  },
  {
   "cell_type": "code",
   "execution_count": 14,
   "metadata": {},
   "outputs": [
    {
     "name": "stdout",
     "output_type": "stream",
     "text": [
      "Price - NUmerical Data - Normalizer used for encoding\n",
      "\n",
      "(33500, 1)\n",
      "(16500, 1)\n"
     ]
    }
   ],
   "source": [
    "# Numerical Features\n",
    "#Price\n",
    "#Normalization is used\n",
    "\n",
    "from sklearn.preprocessing import Normalizer\n",
    "\n",
    "print(\"Price - NUmerical Data - Normalizer used for encoding\\n\")\n",
    "\n",
    "normalizer_price_norm= Normalizer()\n",
    "normalizer_price_norm.fit(X_train['price'].values.reshape(1,-1))\n",
    "\n",
    "X_train_price_norm = normalizer_price_norm.transform(X_train['price'].values.reshape(1,-1))\n",
    "#X_cv_price_norm = normalizer_price_norm.transform(X_cv['price'].values.reshape(1,-1))\n",
    "X_test_price_norm = normalizer_price_norm.transform(X_test['price'].values.reshape(1,-1))\n",
    "\n",
    "\n",
    "#print(X_train_price_norm)\n",
    "#print(X_train_price_norm.reshape(-1,1))\n",
    "#print(X_train_price_norm.shape)\n",
    "\n",
    "X_train_price_norm = X_train_price_norm.reshape(-1,1)\n",
    "#X_cv_price_norm = X_cv_price_norm.reshape(-1,1)\n",
    "X_test_price_norm = X_test_price_norm.reshape(-1,1)\n",
    "\n",
    "print(X_train_price_norm.shape)\n",
    "#print(X_cv_price_norm.shape)\n",
    "print(X_test_price_norm.shape)\n"
   ]
  },
  {
   "cell_type": "code",
   "execution_count": 15,
   "metadata": {},
   "outputs": [
    {
     "name": "stdout",
     "output_type": "stream",
     "text": [
      "Teacher_number_of_previously_posted_projects - Numerical Feature - NOrmaizer used\n",
      "\n",
      "(33500, 1)\n",
      "(16500, 1)\n"
     ]
    }
   ],
   "source": [
    "# Numerical Features\n",
    "#teacher_number_of_previously_posted_projects called as teach_proj_norm for reference\n",
    "#https://imgur.com/ldZA1zg\n",
    "#Normalization is used\n",
    "\n",
    "from sklearn.preprocessing import Normalizer\n",
    "\n",
    "print(\"Teacher_number_of_previously_posted_projects - Numerical Feature - NOrmaizer used\\n\")\n",
    "\n",
    "normalizer_teach_proj_norm= Normalizer()\n",
    "normalizer_teach_proj_norm.fit(X_train['teacher_number_of_previously_posted_projects'].values.reshape(1,-1))\n",
    "\n",
    "X_train_teach_proj_norm = normalizer_teach_proj_norm.transform(X_train['teacher_number_of_previously_posted_projects'].values.reshape(1,-1))\n",
    "#X_cv_teach_proj_norm = normalizer_teach_proj_norm.transform(X_cv['teacher_number_of_previously_posted_projects'].values.reshape(1,-1))\n",
    "X_test_teach_proj_norm = normalizer_teach_proj_norm.transform(X_test['teacher_number_of_previously_posted_projects'].values.reshape(1,-1))\n",
    "\n",
    "\n",
    "#print(X_train_teach_proj_norm)\n",
    "#print(X_train_teach_proj_norm.reshape(-1,1))\n",
    "#print(X_train_teach_proj_norm.shape)\n",
    "\n",
    "X_train_teach_proj_norm = X_train_teach_proj_norm.reshape(-1,1)\n",
    "#X_cv_teach_proj_norm = X_cv_teach_proj_norm.reshape(-1,1)\n",
    "X_test_teach_proj_norm = X_test_teach_proj_norm.reshape(-1,1)\n",
    "\n",
    "#print(X_train_teach_proj_norm)\n",
    "print(X_train_teach_proj_norm.shape)\n",
    "#print(X_cv_teach_proj_norm.shape)\n",
    "print(X_test_teach_proj_norm.shape)"
   ]
  },
  {
   "cell_type": "markdown",
   "metadata": {
    "colab_type": "text",
    "id": "yYHPYadYb3dh"
   },
   "source": [
    "\n",
    "\n",
    "<h2>Concatinating all the features</h2>\n"
   ]
  },
  {
   "cell_type": "code",
   "execution_count": 16,
   "metadata": {},
   "outputs": [
    {
     "name": "stdout",
     "output_type": "stream",
     "text": [
      "SET 1 - BOW implementation\n",
      "Shape of data after concatinating all encoded features\n",
      "X_tr_1: (33500, 5071)\n",
      "X_te_1 (16500, 5071)\n"
     ]
    }
   ],
   "source": [
    "#merging two sparse matrices \n",
    "#https://stackoverflow.com/a/19710648/4084039\n",
    "#using hstack for horixontal stack\n",
    "\n",
    "# Set 1- categorical, numerical features + preprocessed_eassay (BOW)\n",
    "\n",
    "from scipy.sparse import hstack\n",
    "\n",
    "X_tr_1 = hstack((X_train_bow, X_train_tea_pre_ohe, X_train_pro_gra_ohe, X_train_state_ohe, X_train_clean_cat_ohe, X_train_price_norm, X_train_teach_proj_norm))\n",
    "#X_cv_1 = hstack((X_cv_bow, X_cv_tea_pre_ohe, X_cv_pro_gra_ohe, X_cv_state_ohe, X_cv_clean_cat_ohe, X_cv_price_norm, X_cv_teach_proj_norm))\n",
    "X_te_1 = hstack((X_test_bow, X_test_tea_pre_ohe, X_test_pro_gra_ohe, X_test_state_ohe, X_test_clean_cat_ohe, X_test_price_norm, X_test_teach_proj_norm))\n",
    "\n",
    "print(\"SET 1 - BOW implementation\")\n",
    "print(\"Shape of data after concatinating all encoded features\")\n",
    "print(\"X_tr_1:\",X_tr_1.shape)\n",
    "#print(X_cv_1.shape)\n",
    "print(\"X_te_1\", X_te_1.shape)\n"
   ]
  },
  {
   "cell_type": "code",
   "execution_count": 17,
   "metadata": {},
   "outputs": [
    {
     "name": "stdout",
     "output_type": "stream",
     "text": [
      "SET 2 - tfidf implementation\n",
      "\n",
      "Shape of data after concatinating all encoded features\n",
      "X_tr_2 (33500, 5071)\n",
      "X_te_2 (16500, 5071)\n"
     ]
    }
   ],
   "source": [
    "#merging two sparse matrices \n",
    "#https://stackoverflow.com/a/19710648/4084039\n",
    "#using hstack for horixontal stack\n",
    "\n",
    "# Set 2- categorical, numerical features + preprocessed_eassay (TfIdf)\n",
    "\n",
    "from scipy.sparse import hstack\n",
    "X_tr_2 = hstack((X_train_tfidf, X_train_tea_pre_ohe, X_train_pro_gra_ohe, X_train_state_ohe, X_train_clean_cat_ohe, X_train_price_norm, X_train_teach_proj_norm))\n",
    "#X_cv_2 = hstack((X_cv_tfidf, X_cv_tea_pre_ohe, X_cv_pro_gra_ohe, X_cv_state_ohe, X_cv_clean_cat_ohe, X_cv_price_norm, X_cv_teach_proj_norm))\n",
    "X_te_2 = hstack((X_test_tfidf, X_test_tea_pre_ohe, X_test_pro_gra_ohe, X_test_state_ohe, X_test_clean_cat_ohe, X_test_price_norm, X_test_teach_proj_norm))\n",
    "\n",
    "print(\"SET 2 - tfidf implementation\\n\")\n",
    "print(\"Shape of data after concatinating all encoded features\")\n",
    "\n",
    "print(\"X_tr_2\", X_tr_2.shape)\n",
    "#print(X_cv_2.shape)\n",
    "print(\"X_te_2\", X_te_2.shape)\n"
   ]
  },
  {
   "cell_type": "code",
   "execution_count": 16,
   "metadata": {},
   "outputs": [],
   "source": [
    "# Merging X_train and X_cv to create X_tr.\n",
    "# Vertical stack is used.\n",
    "# Reason to merge: RandomSearchCV/Grid Search CV method will split the Dtrain data to Dtrain and Dcv by itself.\n",
    "#from scipy.sparse import vstack\n",
    "#X_train_1 = vstack((X_tr_1,X_cv_1))\n",
    "#X_train_2 = vstack((X_tr_2,X_cv_2))\n",
    "#print(\"Shape of set 1 dataset X_train_1:\",X_train_1.shape)\n",
    "#print(\"Shape of set 2 dataset X_train_2:\",X_train_2.shape)\n",
    "\n",
    "\n",
    "#COMMENT: If data was split into cv and train and then concatenated vertically for RandomSearchCV, it gave an AUC =0.5 which is low\n",
    "#So this is method is not adopted and we just use Random Search CV"
   ]
  },
  {
   "cell_type": "markdown",
   "metadata": {},
   "source": [
    "<h2>1.5 Appling NB on different kind of featurization as mentioned in the instructions</h2>\n",
    "\n",
    "<br>Apply NB on different kind of featurization as mentioned in the instructions\n",
    "<br> For Every model that you work on make sure you do the step 2 and step 3 of instrucations"
   ]
  },
  {
   "cell_type": "markdown",
   "metadata": {},
   "source": [
    "<h2>SET 1</h2>"
   ]
  },
  {
   "cell_type": "code",
   "execution_count": 35,
   "metadata": {},
   "outputs": [
    {
     "name": "stdout",
     "output_type": "stream",
     "text": [
      "[-5.0, -4.0, -3.3010299956639813, -3.0, -2.3010299956639813, -1.0, -0.3010299956639812, 0.0, 0.6989700043360189, 1.0]\n"
     ]
    },
    {
     "data": {
      "image/png": "[encoded data removed]",
      "text/plain": [
       "<Figure size 432x288 with 1 Axes>"
      ]
     },
     "metadata": {
      "needs_background": "light"
     },
     "output_type": "display_data"
    },
    {
     "data": {
      "text/html": [
       "<div>\n",
       "<style scoped>\n",
       "    .dataframe tbody tr th:only-of-type {\n",
       "        vertical-align: middle;\n",
       "    }\n",
       "\n",
       "    .dataframe tbody tr th {\n",
       "        vertical-align: top;\n",
       "    }\n",
       "\n",
       "    .dataframe thead th {\n",
       "        text-align: right;\n",
       "    }\n",
       "</style>\n",
       "<table border=\"1\" class=\"dataframe\">\n",
       "  <thead>\n",
       "    <tr style=\"text-align: right;\">\n",
       "      <th></th>\n",
       "      <th>mean_fit_time</th>\n",
       "      <th>std_fit_time</th>\n",
       "      <th>mean_score_time</th>\n",
       "      <th>std_score_time</th>\n",
       "      <th>param_alpha</th>\n",
       "      <th>params</th>\n",
       "      <th>split0_test_score</th>\n",
       "      <th>split1_test_score</th>\n",
       "      <th>split2_test_score</th>\n",
       "      <th>mean_test_score</th>\n",
       "      <th>std_test_score</th>\n",
       "      <th>rank_test_score</th>\n",
       "      <th>split0_train_score</th>\n",
       "      <th>split1_train_score</th>\n",
       "      <th>split2_train_score</th>\n",
       "      <th>mean_train_score</th>\n",
       "      <th>std_train_score</th>\n",
       "    </tr>\n",
       "  </thead>\n",
       "  <tbody>\n",
       "    <tr>\n",
       "      <th>1</th>\n",
       "      <td>0.037562</td>\n",
       "      <td>4.093055e-03</td>\n",
       "      <td>0.010330</td>\n",
       "      <td>0.000454</td>\n",
       "      <td>1e-05</td>\n",
       "      <td>{'alpha': 1e-05}</td>\n",
       "      <td>0.695015</td>\n",
       "      <td>0.683736</td>\n",
       "      <td>0.694355</td>\n",
       "      <td>0.691035</td>\n",
       "      <td>0.005169</td>\n",
       "      <td>6</td>\n",
       "      <td>0.752394</td>\n",
       "      <td>0.761801</td>\n",
       "      <td>0.763819</td>\n",
       "      <td>0.759338</td>\n",
       "      <td>0.004979</td>\n",
       "    </tr>\n",
       "    <tr>\n",
       "      <th>8</th>\n",
       "      <td>0.029594</td>\n",
       "      <td>4.757529e-04</td>\n",
       "      <td>0.009635</td>\n",
       "      <td>0.000466</td>\n",
       "      <td>0.0001</td>\n",
       "      <td>{'alpha': 0.0001}</td>\n",
       "      <td>0.695094</td>\n",
       "      <td>0.683738</td>\n",
       "      <td>0.694355</td>\n",
       "      <td>0.691063</td>\n",
       "      <td>0.005188</td>\n",
       "      <td>5</td>\n",
       "      <td>0.752381</td>\n",
       "      <td>0.761773</td>\n",
       "      <td>0.763818</td>\n",
       "      <td>0.759324</td>\n",
       "      <td>0.004980</td>\n",
       "    </tr>\n",
       "    <tr>\n",
       "      <th>4</th>\n",
       "      <td>0.041223</td>\n",
       "      <td>3.291131e-03</td>\n",
       "      <td>0.013963</td>\n",
       "      <td>0.002936</td>\n",
       "      <td>0.0005</td>\n",
       "      <td>{'alpha': 0.0005}</td>\n",
       "      <td>0.695157</td>\n",
       "      <td>0.683744</td>\n",
       "      <td>0.694355</td>\n",
       "      <td>0.691085</td>\n",
       "      <td>0.005201</td>\n",
       "      <td>3</td>\n",
       "      <td>0.752369</td>\n",
       "      <td>0.761745</td>\n",
       "      <td>0.763817</td>\n",
       "      <td>0.759310</td>\n",
       "      <td>0.004981</td>\n",
       "    </tr>\n",
       "    <tr>\n",
       "      <th>9</th>\n",
       "      <td>0.029920</td>\n",
       "      <td>9.602742e-07</td>\n",
       "      <td>0.009987</td>\n",
       "      <td>0.000819</td>\n",
       "      <td>0.001</td>\n",
       "      <td>{'alpha': 0.001}</td>\n",
       "      <td>0.695182</td>\n",
       "      <td>0.683745</td>\n",
       "      <td>0.694354</td>\n",
       "      <td>0.691094</td>\n",
       "      <td>0.005207</td>\n",
       "      <td>2</td>\n",
       "      <td>0.752361</td>\n",
       "      <td>0.761731</td>\n",
       "      <td>0.763816</td>\n",
       "      <td>0.759303</td>\n",
       "      <td>0.004982</td>\n",
       "    </tr>\n",
       "    <tr>\n",
       "      <th>7</th>\n",
       "      <td>0.028921</td>\n",
       "      <td>2.468704e-05</td>\n",
       "      <td>0.009639</td>\n",
       "      <td>0.000453</td>\n",
       "      <td>0.005</td>\n",
       "      <td>{'alpha': 0.005}</td>\n",
       "      <td>0.695236</td>\n",
       "      <td>0.683751</td>\n",
       "      <td>0.694351</td>\n",
       "      <td>0.691113</td>\n",
       "      <td>0.005218</td>\n",
       "      <td>1</td>\n",
       "      <td>0.752339</td>\n",
       "      <td>0.761688</td>\n",
       "      <td>0.763809</td>\n",
       "      <td>0.759279</td>\n",
       "      <td>0.004983</td>\n",
       "    </tr>\n",
       "  </tbody>\n",
       "</table>\n",
       "</div>"
      ],
      "text/plain": [
       "   mean_fit_time  std_fit_time  mean_score_time  std_score_time param_alpha  \\\n",
       "1       0.037562  4.093055e-03         0.010330        0.000454       1e-05   \n",
       "8       0.029594  4.757529e-04         0.009635        0.000466      0.0001   \n",
       "4       0.041223  3.291131e-03         0.013963        0.002936      0.0005   \n",
       "9       0.029920  9.602742e-07         0.009987        0.000819       0.001   \n",
       "7       0.028921  2.468704e-05         0.009639        0.000453       0.005   \n",
       "\n",
       "              params  split0_test_score  split1_test_score  split2_test_score  \\\n",
       "1   {'alpha': 1e-05}           0.695015           0.683736           0.694355   \n",
       "8  {'alpha': 0.0001}           0.695094           0.683738           0.694355   \n",
       "4  {'alpha': 0.0005}           0.695157           0.683744           0.694355   \n",
       "9   {'alpha': 0.001}           0.695182           0.683745           0.694354   \n",
       "7   {'alpha': 0.005}           0.695236           0.683751           0.694351   \n",
       "\n",
       "   mean_test_score  std_test_score  rank_test_score  split0_train_score  \\\n",
       "1         0.691035        0.005169                6            0.752394   \n",
       "8         0.691063        0.005188                5            0.752381   \n",
       "4         0.691085        0.005201                3            0.752369   \n",
       "9         0.691094        0.005207                2            0.752361   \n",
       "7         0.691113        0.005218                1            0.752339   \n",
       "\n",
       "   split1_train_score  split2_train_score  mean_train_score  std_train_score  \n",
       "1            0.761801            0.763819          0.759338         0.004979  \n",
       "8            0.761773            0.763818          0.759324         0.004980  \n",
       "4            0.761745            0.763817          0.759310         0.004981  \n",
       "9            0.761731            0.763816          0.759303         0.004982  \n",
       "7            0.761688            0.763809          0.759279         0.004983  "
      ]
     },
     "execution_count": 35,
     "metadata": {},
     "output_type": "execute_result"
    }
   ],
   "source": [
    "#SET1\n",
    "#Classifier = Multinomial Naive Bayes without class_prior\n",
    "#Hyperparameter tuning = Random Search CV method\n",
    "\n",
    "from sklearn.naive_bayes import MultinomialNB\n",
    "from sklearn.model_selection import RandomizedSearchCV\n",
    "import math\n",
    "\n",
    "mnb = MultinomialNB() #class_prior is not used to define mnb\n",
    "parameters = {'alpha': [0.00001,0.0005, 0.0001,0.005,0.001,0.05,0.01,0.1,0.5,1,5,10,50,100]}\n",
    "alphas = [0.00001,0.0005, 0.0001,0.005,0.001,0.05,0.01,0.1,0.5,1,5,10,50,100]\n",
    "\n",
    "\n",
    "clf = RandomizedSearchCV(mnb, parameters, cv=3, scoring= 'roc_auc', return_train_score= True)\n",
    "clf.fit(X_tr_1,Y_train)\n",
    "\n",
    "\n",
    "results = pd.DataFrame.from_dict(clf.cv_results_)\n",
    "#print(results)\n",
    "results = results.sort_values(['param_alpha'])\n",
    "\n",
    "\n",
    "train_auc = results['mean_train_score']\n",
    "cv_auc = results['mean_test_score']\n",
    "alpha = results['param_alpha']\n",
    "#print(alpha)\n",
    "log_alpha = [math.log10(i) for i in alpha]\n",
    "#print(log_alpha)\n",
    "\n",
    "plt.plot(log_alpha, train_auc, label=\"Train_AUC\")\n",
    "plt.plot(log_alpha, cv_auc, label =\"CV AUC\")\n",
    "\n",
    "plt.scatter(log_alpha, train_auc, label=\"Train AUC points\")\n",
    "plt.scatter(log_alpha, cv_auc, label=\"CV AUC points\")\n",
    "\n",
    "\n",
    "#plt.subplot(2, 1, 2) # Use this if you just want to see just the scatter plot use the next two lines of code\n",
    "#plt.scatter(alpha, train_auc, label=\"Train AUC points\")\n",
    "#plt.scatter(alpha, cv_auc, label=\"CV AUC points\")\n",
    "\n",
    "\n",
    "plt.title(\"Hyperparameter-alpha vs AUC plot for Set 1 without class_prior\")\n",
    "plt.xlabel(\"Parameter - alpha\")\n",
    "plt.ylabel(\"AUC vaules\")\n",
    "plt.legend()\n",
    "plt.grid()\n",
    "plt.show()\n",
    "\n",
    "\n",
    "results.head(5)\n"
   ]
  },
  {
   "cell_type": "code",
   "execution_count": 38,
   "metadata": {},
   "outputs": [
    {
     "data": {
      "image/png": "[encoded data removed]",
      "text/plain": [
       "<Figure size 432x288 with 1 Axes>"
      ]
     },
     "metadata": {
      "needs_background": "light"
     },
     "output_type": "display_data"
    },
    {
     "data": {
      "text/html": [
       "<div>\n",
       "<style scoped>\n",
       "    .dataframe tbody tr th:only-of-type {\n",
       "        vertical-align: middle;\n",
       "    }\n",
       "\n",
       "    .dataframe tbody tr th {\n",
       "        vertical-align: top;\n",
       "    }\n",
       "\n",
       "    .dataframe thead th {\n",
       "        text-align: right;\n",
       "    }\n",
       "</style>\n",
       "<table border=\"1\" class=\"dataframe\">\n",
       "  <thead>\n",
       "    <tr style=\"text-align: right;\">\n",
       "      <th></th>\n",
       "      <th>mean_fit_time</th>\n",
       "      <th>std_fit_time</th>\n",
       "      <th>mean_score_time</th>\n",
       "      <th>std_score_time</th>\n",
       "      <th>param_alpha</th>\n",
       "      <th>params</th>\n",
       "      <th>split0_test_score</th>\n",
       "      <th>split1_test_score</th>\n",
       "      <th>split2_test_score</th>\n",
       "      <th>mean_test_score</th>\n",
       "      <th>std_test_score</th>\n",
       "      <th>rank_test_score</th>\n",
       "      <th>split0_train_score</th>\n",
       "      <th>split1_train_score</th>\n",
       "      <th>split2_train_score</th>\n",
       "      <th>mean_train_score</th>\n",
       "      <th>std_train_score</th>\n",
       "    </tr>\n",
       "  </thead>\n",
       "  <tbody>\n",
       "    <tr>\n",
       "      <th>4</th>\n",
       "      <td>0.039906</td>\n",
       "      <td>0.002923</td>\n",
       "      <td>0.009960</td>\n",
       "      <td>8.139416e-04</td>\n",
       "      <td>1e-05</td>\n",
       "      <td>{'alpha': 1e-05}</td>\n",
       "      <td>0.695014</td>\n",
       "      <td>0.683736</td>\n",
       "      <td>0.694356</td>\n",
       "      <td>0.691036</td>\n",
       "      <td>0.005168</td>\n",
       "      <td>7</td>\n",
       "      <td>0.752394</td>\n",
       "      <td>0.761800</td>\n",
       "      <td>0.763818</td>\n",
       "      <td>0.759337</td>\n",
       "      <td>0.004978</td>\n",
       "    </tr>\n",
       "    <tr>\n",
       "      <th>6</th>\n",
       "      <td>0.034907</td>\n",
       "      <td>0.000815</td>\n",
       "      <td>0.010306</td>\n",
       "      <td>4.700217e-04</td>\n",
       "      <td>0.0001</td>\n",
       "      <td>{'alpha': 0.0001}</td>\n",
       "      <td>0.695093</td>\n",
       "      <td>0.683739</td>\n",
       "      <td>0.694356</td>\n",
       "      <td>0.691063</td>\n",
       "      <td>0.005188</td>\n",
       "      <td>6</td>\n",
       "      <td>0.752382</td>\n",
       "      <td>0.761772</td>\n",
       "      <td>0.763818</td>\n",
       "      <td>0.759324</td>\n",
       "      <td>0.004979</td>\n",
       "    </tr>\n",
       "    <tr>\n",
       "      <th>1</th>\n",
       "      <td>0.033571</td>\n",
       "      <td>0.000466</td>\n",
       "      <td>0.009309</td>\n",
       "      <td>4.713704e-04</td>\n",
       "      <td>0.001</td>\n",
       "      <td>{'alpha': 0.001}</td>\n",
       "      <td>0.695181</td>\n",
       "      <td>0.683746</td>\n",
       "      <td>0.694356</td>\n",
       "      <td>0.691094</td>\n",
       "      <td>0.005207</td>\n",
       "      <td>4</td>\n",
       "      <td>0.752362</td>\n",
       "      <td>0.761730</td>\n",
       "      <td>0.763816</td>\n",
       "      <td>0.759302</td>\n",
       "      <td>0.004981</td>\n",
       "    </tr>\n",
       "    <tr>\n",
       "      <th>2</th>\n",
       "      <td>0.034573</td>\n",
       "      <td>0.001703</td>\n",
       "      <td>0.009635</td>\n",
       "      <td>4.764290e-04</td>\n",
       "      <td>0.005</td>\n",
       "      <td>{'alpha': 0.005}</td>\n",
       "      <td>0.695235</td>\n",
       "      <td>0.683752</td>\n",
       "      <td>0.694353</td>\n",
       "      <td>0.691113</td>\n",
       "      <td>0.005218</td>\n",
       "      <td>2</td>\n",
       "      <td>0.752339</td>\n",
       "      <td>0.761687</td>\n",
       "      <td>0.763808</td>\n",
       "      <td>0.759278</td>\n",
       "      <td>0.004982</td>\n",
       "    </tr>\n",
       "    <tr>\n",
       "      <th>0</th>\n",
       "      <td>0.033909</td>\n",
       "      <td>0.000814</td>\n",
       "      <td>0.008976</td>\n",
       "      <td>1.123916e-07</td>\n",
       "      <td>0.01</td>\n",
       "      <td>{'alpha': 0.01}</td>\n",
       "      <td>0.695258</td>\n",
       "      <td>0.683754</td>\n",
       "      <td>0.694348</td>\n",
       "      <td>0.691120</td>\n",
       "      <td>0.005222</td>\n",
       "      <td>1</td>\n",
       "      <td>0.752323</td>\n",
       "      <td>0.761661</td>\n",
       "      <td>0.763799</td>\n",
       "      <td>0.759261</td>\n",
       "      <td>0.004983</td>\n",
       "    </tr>\n",
       "  </tbody>\n",
       "</table>\n",
       "</div>"
      ],
      "text/plain": [
       "   mean_fit_time  std_fit_time  mean_score_time  std_score_time param_alpha  \\\n",
       "4       0.039906      0.002923         0.009960    8.139416e-04       1e-05   \n",
       "6       0.034907      0.000815         0.010306    4.700217e-04      0.0001   \n",
       "1       0.033571      0.000466         0.009309    4.713704e-04       0.001   \n",
       "2       0.034573      0.001703         0.009635    4.764290e-04       0.005   \n",
       "0       0.033909      0.000814         0.008976    1.123916e-07        0.01   \n",
       "\n",
       "              params  split0_test_score  split1_test_score  split2_test_score  \\\n",
       "4   {'alpha': 1e-05}           0.695014           0.683736           0.694356   \n",
       "6  {'alpha': 0.0001}           0.695093           0.683739           0.694356   \n",
       "1   {'alpha': 0.001}           0.695181           0.683746           0.694356   \n",
       "2   {'alpha': 0.005}           0.695235           0.683752           0.694353   \n",
       "0    {'alpha': 0.01}           0.695258           0.683754           0.694348   \n",
       "\n",
       "   mean_test_score  std_test_score  rank_test_score  split0_train_score  \\\n",
       "4         0.691036        0.005168                7            0.752394   \n",
       "6         0.691063        0.005188                6            0.752382   \n",
       "1         0.691094        0.005207                4            0.752362   \n",
       "2         0.691113        0.005218                2            0.752339   \n",
       "0         0.691120        0.005222                1            0.752323   \n",
       "\n",
       "   split1_train_score  split2_train_score  mean_train_score  std_train_score  \n",
       "4            0.761800            0.763818          0.759337         0.004978  \n",
       "6            0.761772            0.763818          0.759324         0.004979  \n",
       "1            0.761730            0.763816          0.759302         0.004981  \n",
       "2            0.761687            0.763808          0.759278         0.004982  \n",
       "0            0.761661            0.763799          0.759261         0.004983  "
      ]
     },
     "execution_count": 38,
     "metadata": {},
     "output_type": "execute_result"
    }
   ],
   "source": [
    "#SET1\n",
    "#Classifier = Multinomial Naive Bayes with class_prior\n",
    "#Hyperparameter tuning = Random Search CV method\n",
    "\n",
    "from sklearn.naive_bayes import MultinomialNB\n",
    "from sklearn.model_selection import RandomizedSearchCV\n",
    "\n",
    "mnb = MultinomialNB(class_prior = [0.5,0.5]) #class_prior is used to define mnb\n",
    "parameters = {'alpha': [0.00001,0.0005, 0.0001,0.005,0.001,0.05,0.01,0.1,0.5,1,5,10,50,100]}\n",
    "clf = RandomizedSearchCV(mnb, parameters, cv=3, scoring= 'roc_auc', return_train_score= True)\n",
    "clf.fit(X_tr_1,Y_train)\n",
    "\n",
    "\n",
    "results = pd.DataFrame.from_dict(clf.cv_results_)\n",
    "results = results.sort_values(['param_alpha'])\n",
    "\n",
    "\n",
    "train_auc = results['mean_train_score']\n",
    "cv_auc = results['mean_test_score']\n",
    "alpha = results['param_alpha']\n",
    "\n",
    "log_alpha = [math.log10(i) for i in alpha]\n",
    "#print(alpha)\n",
    "#print(log_alpha)\n",
    "plt.plot(log_alpha, train_auc, label=\"Train_AUC\")\n",
    "plt.plot(log_alpha, cv_auc, label =\"CV AUC\")\n",
    "\n",
    "plt.scatter(log_alpha, train_auc, label=\"Train AUC points\")\n",
    "plt.scatter(log_alpha, cv_auc, label=\"CV AUC points\")\n",
    "\n",
    "#plt.subplot(2, 1, 1)\n",
    "#plt.plot(alpha, train_auc, label=\"Train_AUC\")\n",
    "#plt.plot(alpha, cv_auc, label =\"CV AUC\")\n",
    "\n",
    "#plt.scatter(alpha, train_auc, label=\"Train AUC points\")\n",
    "#plt.scatter(alpha, cv_auc, label=\"CV AUC points\")\n",
    "\n",
    "\n",
    "#plt.subplot(2, 1, 2) # Use this if you just want to see just the scatter plot use the next two lines of code\n",
    "#plt.scatter(alpha, train_auc, label=\"Train AUC points\")\n",
    "#plt.scatter(alpha, cv_auc, label=\"CV AUC points\")\n",
    "\n",
    "\n",
    "plt.title(\"Hyperparameter-alpha vs AUC plot for Set 1 with class_prior[0.5,0.5]\")\n",
    "plt.xlabel(\"Parameter - log-alpha\")\n",
    "plt.ylabel(\"AUC vaules\")\n",
    "plt.legend()\n",
    "plt.grid()\n",
    "plt.show()\n",
    "\n",
    "\n",
    "results.head(5)"
   ]
  },
  {
   "cell_type": "markdown",
   "metadata": {},
   "source": [
    "<h3>Conclusion for using class_prior</h3>\n",
    " <br>No differnce in the curves and  best alpha value obtained whether class_prior =[0.5,0.50] was used.  In both cases alpha = 100 was determined to be best."
   ]
  },
  {
   "cell_type": "code",
   "execution_count": 39,
   "metadata": {},
   "outputs": [],
   "source": [
    "#Best value of Alpha Hyperparamater\n",
    "#Choose value #Best value of Alpha Hyperparamater\n",
    "#Choose value from the graph based on  1. Maximum value of AUC on CV vurve and 2. Minimum gap between train and CV AUC\n",
    "#best_alpha = 100from the graph based on  1. Maximum value of AUC on CV vurve and 2. Minimum gap between train and CV AUC\n",
    "best_alpha = 5 #(log_alpha = 0 in the graph )"
   ]
  },
  {
   "cell_type": "code",
   "execution_count": 40,
   "metadata": {},
   "outputs": [
    {
     "data": {
      "image/png": "[encoded data removed]",
      "text/plain": [
       "<Figure size 432x288 with 1 Axes>"
      ]
     },
     "metadata": {
      "needs_background": "light"
     },
     "output_type": "display_data"
    }
   ],
   "source": [
    "#Testing perfomance of the model on the test data, plotting ROC curves \n",
    "#SET 1 with best alpha\n",
    "\n",
    "from sklearn.naive_bayes import MultinomialNB\n",
    "from sklearn.metrics import roc_curve, auc\n",
    "\n",
    "mnb1 = MultinomialNB(alpha =best_alpha)\n",
    "mnb1.fit(X_tr_1, Y_train)\n",
    "\n",
    "Y_train_1_pred = mnb1.predict_proba(X_tr_1)[:,1] # This will give us the first value , i.e. P(yi=1) as we need only that for the ROC_AUC curve\n",
    "Y_test_1_pred = mnb1.predict_proba(X_te_1)[:,1]\n",
    "\n",
    "#print(Y_train_pred)\n",
    "\n",
    "train_1_fpr, train_1_tpr , train_1_thresholds = roc_curve(Y_train, Y_train_1_pred)\n",
    "test_1_fpr, test_1_tpr , test_2_thresholds = roc_curve(Y_test, Y_test_1_pred)\n",
    "#print(train_1_thresholds)\n",
    "\n",
    "plt.plot(train_1_fpr, train_1_tpr, label=\"Train AUC=\"+str(auc(train_1_fpr, train_1_tpr)))\n",
    "plt.plot(test_1_fpr, test_1_tpr, label=\"Test AUC=\"+str(auc(test_1_fpr, test_1_tpr)))\n",
    "\n",
    "plt.xlabel(\"False Positve Rate(FPR)\")\n",
    "plt.ylabel(\"True Positive Rate(TPR)\")\n",
    "plt.title(\"ROC Curve for Set 1 with alpha = 5\")\n",
    "plt.legend()\n",
    "plt.grid()\n",
    "plt.show()\n"
   ]
  },
  {
   "cell_type": "code",
   "execution_count": 41,
   "metadata": {},
   "outputs": [],
   "source": [
    "# Find best threshold\n",
    "# Code copied from Applied AI Reference Sample Code provided for Naive Bayes Assignment\n",
    "\n",
    "def find_best_threshold(threshold, fpr, tpr):\n",
    "    t = threshold[np.argmax(tpr*(1-fpr))]\n",
    "    print(t)\n",
    "    print(\"The maximum value of tpr*(i-fpr) =\", max(tpr*(1-fpr)), \"for threshold\", np.round(t,3))\n",
    "    return t\n",
    "\n",
    "def predict_with_best_t(proba,threshold):\n",
    "    predictions = []\n",
    "    for i in proba:\n",
    "        if i>= threshold:\n",
    "            predictions.append(1)\n",
    "        else:\n",
    "            predictions.append(0)\n",
    "    return predictions\n"
   ]
  },
  {
   "cell_type": "code",
   "execution_count": 42,
   "metadata": {},
   "outputs": [
    {
     "name": "stdout",
     "output_type": "stream",
     "text": [
      "0.8319631439286825\n",
      "The maximum value of tpr*(i-fpr) = 0.46349279560288065 for threshold 0.832\n",
      "\n",
      "\n",
      "Train Confusion Matrix:\n",
      "[[ 3696  1669]\n",
      " [ 9206 18929]]\n",
      "\n",
      "\n",
      "Test Confusion Matrix:\n",
      "[[1664  978]\n",
      " [4679 9179]]\n"
     ]
    }
   ],
   "source": [
    "# CALCULATING THE CONFUSION MATRIX for both SET 1\n",
    "\n",
    "from sklearn.metrics import confusion_matrix\n",
    "best_t = find_best_threshold(train_1_thresholds, train_1_fpr, train_1_tpr)\n",
    "#print(best_t)\n",
    "\n",
    "print(\"\\n\")\n",
    "print(\"Train Confusion Matrix:\")\n",
    "CM_train_1 =confusion_matrix(Y_train, predict_with_best_t(Y_train_1_pred, best_t))\n",
    "print(CM_train_1)\n",
    "print(\"\\n\")\n",
    "print(\"Test Confusion Matrix:\")\n",
    "CM_test_1 = confusion_matrix(Y_test, predict_with_best_t(Y_test_1_pred, best_t))\n",
    "print(CM_test_1)\n"
   ]
  },
  {
   "cell_type": "code",
   "execution_count": 43,
   "metadata": {},
   "outputs": [
    {
     "data": {
      "image/png": "[encoded data removed]",
      "text/plain": [
       "<Figure size 432x288 with 2 Axes>"
      ]
     },
     "metadata": {
      "needs_background": "light"
     },
     "output_type": "display_data"
    }
   ],
   "source": [
    "# Heat map of Train Dataset Confusion Matrix\n",
    "import seaborn as sns\n",
    "import matplotlib.pyplot as plt     \n",
    "\n",
    "ax= plt.subplot();\n",
    "#labels = ['True Neg','False Pos','False Neg','True Pos']\n",
    "#labels = np.asarray(labels).reshape(2,2)\n",
    "sns.heatmap(CM_train_1, annot=True,fmt=\"d\",cmap='Blues',ax=ax);\n",
    "#CM1_percentage = CM1/np.sum(CM1)\n",
    "#print(CM1_percentage)\n",
    "#sns.heatmap(CM1_percentage, annot=True,fmt=\".2%\",cmap='Blues',ax=ax);\n",
    "\n",
    "#sns.heatmap(CM1, annot=True,fmt=\"d\",cmap='Blues',ax=ax);\n",
    "# labels, title and ticks\n",
    "ax.set_xlabel('Predicted labels');ax.set_ylabel('True labels'); \n",
    "ax.set_ylim(2.0, 0)\n",
    "ax.set_title('Confusion Matrix Train Dataset for Set 1');\n",
    "ax.xaxis.set_ticklabels(['0','1']); \n",
    "ax.yaxis.set_ticklabels(['0','1']);"
   ]
  },
  {
   "cell_type": "code",
   "execution_count": 44,
   "metadata": {},
   "outputs": [
    {
     "data": {
      "image/png": "[encoded data removed]",
      "text/plain": [
       "<Figure size 432x288 with 2 Axes>"
      ]
     },
     "metadata": {
      "needs_background": "light"
     },
     "output_type": "display_data"
    }
   ],
   "source": [
    "# Heat map of Test Dataset Confusion Matrix\n",
    "\n",
    "import seaborn as sns\n",
    "import matplotlib.pyplot as plt     \n",
    "\n",
    "ax= plt.subplot();\n",
    "#labels = ['True Neg','False Pos','False Neg','True Pos']\n",
    "#labels = np.asarray(labels).reshape(2,2)\n",
    "sns.heatmap(CM_test_1, annot=True,fmt=\"d\",cmap='Blues',ax=ax);\n",
    "#CM1_percentage = CM1/np.sum(CM1)\n",
    "#print(CM1_percentage)\n",
    "#sns.heatmap(CM1_percentage, annot=True,fmt=\".2%\",cmap='Blues',ax=ax);\n",
    "\n",
    "#sns.heatmap(CM1, annot=True,fmt=\"d\",cmap='Blues',ax=ax);\n",
    "# labels, title and ticks\n",
    "ax.set_xlabel('Predicted labels');ax.set_ylabel('True labels'); \n",
    "ax.set_ylim(2.0, 0)\n",
    "ax.set_title('Confusion Matrix Test Dataset for Set 1');\n",
    "ax.xaxis.set_ticklabels(['0','1']); \n",
    "ax.yaxis.set_ticklabels(['0','1']);"
   ]
  },
  {
   "cell_type": "code",
   "execution_count": 45,
   "metadata": {},
   "outputs": [
    {
     "data": {
      "image/png": "[encoded data removed]",
      "text/plain": [
       "<Figure size 432x288 with 2 Axes>"
      ]
     },
     "metadata": {
      "needs_background": "light"
     },
     "output_type": "display_data"
    }
   ],
   "source": [
    "import seaborn as sns\n",
    "import matplotlib.pyplot as plt     \n",
    "\n",
    "ax= plt.subplot();\n",
    "#labels = ['True Neg','False Pos','False Neg','True Pos']\n",
    "#labels = np.asarray(labels).reshape(2,2)\n",
    "#sns.heatmap(CM_train_1, annot=True,fmt=\"d\",cmap='Blues',ax=ax);\n",
    "CM_train_1_percentage = CM_train_1/np.sum(CM_train_1)\n",
    "#print(CM1_percentage)\n",
    "sns.heatmap(CM_train_1_percentage, annot=True,fmt=\".2%\",cmap='Blues',ax=ax);\n",
    "\n",
    "#sns.heatmap(CM1, annot=True,fmt=\"d\",cmap='Blues',ax=ax);\n",
    "# labels, title and ticks\n",
    "ax.set_xlabel('Predicted labels');ax.set_ylabel('True labels'); \n",
    "ax.set_ylim(2.0, 0)\n",
    "ax.set_title('Confusion Matrix Train Dataset for Set 1');\n",
    "ax.xaxis.set_ticklabels(['0','1']); \n",
    "ax.yaxis.set_ticklabels(['0','1']);"
   ]
  },
  {
   "cell_type": "code",
   "execution_count": 46,
   "metadata": {},
   "outputs": [
    {
     "data": {
      "image/png": "[encoded data removed]",
      "text/plain": [
       "<Figure size 432x288 with 2 Axes>"
      ]
     },
     "metadata": {
      "needs_background": "light"
     },
     "output_type": "display_data"
    }
   ],
   "source": [
    "# COnfusion Matrx in terms of percentage for Test Datase for Set 1\n",
    "import seaborn as sns\n",
    "import matplotlib.pyplot as plt     \n",
    "\n",
    "ax= plt.subplot();\n",
    "#labels = ['True Neg','False Pos','False Neg','True Pos']\n",
    "#labels = np.asarray(labels).reshape(2,2)\n",
    "#sns.heatmap(CM_train_1, annot=True,fmt=\"d\",cmap='Blues',ax=ax);\n",
    "CM_test_1_percentage = CM_test_1/np.sum(CM_test_1)\n",
    "#print(CM1_percentage)\n",
    "sns.heatmap(CM_test_1_percentage, annot=True,fmt=\".2%\",cmap='Blues',ax=ax);\n",
    "\n",
    "#sns.heatmap(CM1, annot=True,fmt=\"d\",cmap='Blues',ax=ax);\n",
    "# labels, title and ticks\n",
    "ax.set_xlabel('Predicted labels');ax.set_ylabel('True labels'); \n",
    "ax.set_ylim(2.0, 0)\n",
    "ax.set_title('Confusion Matrix Test Dataset for Set 1');\n",
    "ax.xaxis.set_ticklabels(['0','1']); \n",
    "ax.yaxis.set_ticklabels(['0','1']);"
   ]
  },
  {
   "cell_type": "code",
   "execution_count": 53,
   "metadata": {},
   "outputs": [
    {
     "data": {
      "image/png": "[encoded data removed]",
      "text/plain": [
       "<Figure size 432x288 with 1 Axes>"
      ]
     },
     "metadata": {
      "needs_background": "light"
     },
     "output_type": "display_data"
    },
    {
     "data": {
      "text/html": [
       "<div>\n",
       "<style scoped>\n",
       "    .dataframe tbody tr th:only-of-type {\n",
       "        vertical-align: middle;\n",
       "    }\n",
       "\n",
       "    .dataframe tbody tr th {\n",
       "        vertical-align: top;\n",
       "    }\n",
       "\n",
       "    .dataframe thead th {\n",
       "        text-align: right;\n",
       "    }\n",
       "</style>\n",
       "<table border=\"1\" class=\"dataframe\">\n",
       "  <thead>\n",
       "    <tr style=\"text-align: right;\">\n",
       "      <th></th>\n",
       "      <th>mean_fit_time</th>\n",
       "      <th>std_fit_time</th>\n",
       "      <th>mean_score_time</th>\n",
       "      <th>std_score_time</th>\n",
       "      <th>param_alpha</th>\n",
       "      <th>params</th>\n",
       "      <th>split0_test_score</th>\n",
       "      <th>split1_test_score</th>\n",
       "      <th>split2_test_score</th>\n",
       "      <th>mean_test_score</th>\n",
       "      <th>std_test_score</th>\n",
       "      <th>rank_test_score</th>\n",
       "      <th>split0_train_score</th>\n",
       "      <th>split1_train_score</th>\n",
       "      <th>split2_train_score</th>\n",
       "      <th>mean_train_score</th>\n",
       "      <th>std_train_score</th>\n",
       "    </tr>\n",
       "  </thead>\n",
       "  <tbody>\n",
       "    <tr>\n",
       "      <th>2</th>\n",
       "      <td>0.036280</td>\n",
       "      <td>0.000942</td>\n",
       "      <td>0.011254</td>\n",
       "      <td>0.001893</td>\n",
       "      <td>1e-05</td>\n",
       "      <td>{'alpha': 1e-05}</td>\n",
       "      <td>0.686485</td>\n",
       "      <td>0.675717</td>\n",
       "      <td>0.690419</td>\n",
       "      <td>0.684207</td>\n",
       "      <td>0.006214</td>\n",
       "      <td>1</td>\n",
       "      <td>0.756642</td>\n",
       "      <td>0.764949</td>\n",
       "      <td>0.768073</td>\n",
       "      <td>0.763221</td>\n",
       "      <td>0.004824</td>\n",
       "    </tr>\n",
       "    <tr>\n",
       "      <th>0</th>\n",
       "      <td>0.037274</td>\n",
       "      <td>0.005443</td>\n",
       "      <td>0.009268</td>\n",
       "      <td>0.000480</td>\n",
       "      <td>0.0001</td>\n",
       "      <td>{'alpha': 0.0001}</td>\n",
       "      <td>0.686484</td>\n",
       "      <td>0.675717</td>\n",
       "      <td>0.690417</td>\n",
       "      <td>0.684206</td>\n",
       "      <td>0.006214</td>\n",
       "      <td>2</td>\n",
       "      <td>0.756640</td>\n",
       "      <td>0.764947</td>\n",
       "      <td>0.768071</td>\n",
       "      <td>0.763220</td>\n",
       "      <td>0.004824</td>\n",
       "    </tr>\n",
       "    <tr>\n",
       "      <th>7</th>\n",
       "      <td>0.039540</td>\n",
       "      <td>0.004448</td>\n",
       "      <td>0.010958</td>\n",
       "      <td>0.000830</td>\n",
       "      <td>0.0005</td>\n",
       "      <td>{'alpha': 0.0005}</td>\n",
       "      <td>0.686479</td>\n",
       "      <td>0.675713</td>\n",
       "      <td>0.690414</td>\n",
       "      <td>0.684202</td>\n",
       "      <td>0.006214</td>\n",
       "      <td>3</td>\n",
       "      <td>0.756633</td>\n",
       "      <td>0.764940</td>\n",
       "      <td>0.768063</td>\n",
       "      <td>0.763212</td>\n",
       "      <td>0.004823</td>\n",
       "    </tr>\n",
       "    <tr>\n",
       "      <th>9</th>\n",
       "      <td>0.037904</td>\n",
       "      <td>0.009433</td>\n",
       "      <td>0.008856</td>\n",
       "      <td>0.006551</td>\n",
       "      <td>0.01</td>\n",
       "      <td>{'alpha': 0.01}</td>\n",
       "      <td>0.686354</td>\n",
       "      <td>0.675609</td>\n",
       "      <td>0.690304</td>\n",
       "      <td>0.684089</td>\n",
       "      <td>0.006209</td>\n",
       "      <td>4</td>\n",
       "      <td>0.756473</td>\n",
       "      <td>0.764763</td>\n",
       "      <td>0.767871</td>\n",
       "      <td>0.763036</td>\n",
       "      <td>0.004811</td>\n",
       "    </tr>\n",
       "    <tr>\n",
       "      <th>5</th>\n",
       "      <td>0.036561</td>\n",
       "      <td>0.000472</td>\n",
       "      <td>0.009994</td>\n",
       "      <td>0.000016</td>\n",
       "      <td>0.05</td>\n",
       "      <td>{'alpha': 0.05}</td>\n",
       "      <td>0.685868</td>\n",
       "      <td>0.675149</td>\n",
       "      <td>0.689850</td>\n",
       "      <td>0.683622</td>\n",
       "      <td>0.006208</td>\n",
       "      <td>5</td>\n",
       "      <td>0.755792</td>\n",
       "      <td>0.764040</td>\n",
       "      <td>0.767074</td>\n",
       "      <td>0.762302</td>\n",
       "      <td>0.004767</td>\n",
       "    </tr>\n",
       "  </tbody>\n",
       "</table>\n",
       "</div>"
      ],
      "text/plain": [
       "   mean_fit_time  std_fit_time  mean_score_time  std_score_time param_alpha  \\\n",
       "2       0.036280      0.000942         0.011254        0.001893       1e-05   \n",
       "0       0.037274      0.005443         0.009268        0.000480      0.0001   \n",
       "7       0.039540      0.004448         0.010958        0.000830      0.0005   \n",
       "9       0.037904      0.009433         0.008856        0.006551        0.01   \n",
       "5       0.036561      0.000472         0.009994        0.000016        0.05   \n",
       "\n",
       "              params  split0_test_score  split1_test_score  split2_test_score  \\\n",
       "2   {'alpha': 1e-05}           0.686485           0.675717           0.690419   \n",
       "0  {'alpha': 0.0001}           0.686484           0.675717           0.690417   \n",
       "7  {'alpha': 0.0005}           0.686479           0.675713           0.690414   \n",
       "9    {'alpha': 0.01}           0.686354           0.675609           0.690304   \n",
       "5    {'alpha': 0.05}           0.685868           0.675149           0.689850   \n",
       "\n",
       "   mean_test_score  std_test_score  rank_test_score  split0_train_score  \\\n",
       "2         0.684207        0.006214                1            0.756642   \n",
       "0         0.684206        0.006214                2            0.756640   \n",
       "7         0.684202        0.006214                3            0.756633   \n",
       "9         0.684089        0.006209                4            0.756473   \n",
       "5         0.683622        0.006208                5            0.755792   \n",
       "\n",
       "   split1_train_score  split2_train_score  mean_train_score  std_train_score  \n",
       "2            0.764949            0.768073          0.763221         0.004824  \n",
       "0            0.764947            0.768071          0.763220         0.004824  \n",
       "7            0.764940            0.768063          0.763212         0.004823  \n",
       "9            0.764763            0.767871          0.763036         0.004811  \n",
       "5            0.764040            0.767074          0.762302         0.004767  "
      ]
     },
     "execution_count": 53,
     "metadata": {},
     "output_type": "execute_result"
    }
   ],
   "source": [
    "#  SET 2\n",
    "#Multinomial Naive Bayes with class_prior=[0.5,0.5] \n",
    "#Random Search CV method for SET2\n",
    "\n",
    "from sklearn.naive_bayes import MultinomialNB\n",
    "from sklearn.model_selection import RandomizedSearchCV\n",
    "\n",
    "mnb2 = MultinomialNB(class_prior=[0.5,0.5])\n",
    "\n",
    "parameters = {'alpha': [0.00001,0.0005, 0.0001,0.005,0.001,0.05,0.01,0.1,0.5,1,5,10,50,100]}\n",
    "clf = RandomizedSearchCV(mnb2, parameters, cv=3, scoring= 'roc_auc', return_train_score= True)\n",
    "clf.fit(X_tr_2,Y_train)\n",
    "\n",
    "\n",
    "results = pd.DataFrame.from_dict(clf.cv_results_)\n",
    "results = results.sort_values(['param_alpha'])\n",
    "\n",
    "\n",
    "train_auc = results['mean_train_score']\n",
    "cv_auc = results['mean_test_score']\n",
    "alpha = results['param_alpha']\n",
    "#print(alpha)\n",
    "log_alpha = [math.log10(i) for i in alpha]\n",
    "#print(log_alpha)\n",
    "\n",
    "#plt.subplot(2, 1, 1)\n",
    "plt.plot(log_alpha, train_auc, label=\"Train_AUC\")\n",
    "plt.plot(log_alpha, cv_auc, label =\"CV AUC\")\n",
    "\n",
    "plt.scatter(log_alpha, train_auc, label=\"Train AUC points\")\n",
    "plt.scatter(log_alpha, cv_auc, label=\"CV AUC points\")\n",
    "\n",
    "\n",
    "#plt.subplot(2, 1, 2) # Use the following two lines when you want to just see the scatter plot only\n",
    "#plt.scatter(alpha, train_auc, label=\"Train AUC points\")\n",
    "#plt.scatter(alpha, cv_auc, label=\"CV AUC points\")\n",
    "\n",
    "plt.title(\"Hyperparameter-alpha vs AUC plot for Set 2\")\n",
    "plt.xlabel(\"Parameter - alpha(log values)\")\n",
    "plt.ylabel(\"AUC vaules\")\n",
    "\n",
    "plt.legend()\n",
    "plt.grid()\n",
    "plt.show()\n",
    "\n",
    "results.head(5)\n"
   ]
  },
  {
   "cell_type": "code",
   "execution_count": 50,
   "metadata": {},
   "outputs": [],
   "source": [
    "#Best value of Alpha Hyperparamater\n",
    "#Choose value from the graph based on  1. Maximum value of AUC on CV vurve and 2. Minimum gap between train and CV AUC\n",
    "best_alpha = 1 #The log_alpha = 0 on graph gave best results and its corresponding alpha value was 1\n",
    "#if best_alpha = 3, the samre results were obtained"
   ]
  },
  {
   "cell_type": "code",
   "execution_count": 54,
   "metadata": {},
   "outputs": [
    {
     "data": {
      "image/png": "[encoded data removed]",
      "text/plain": [
       "<Figure size 432x288 with 1 Axes>"
      ]
     },
     "metadata": {
      "needs_background": "light"
     },
     "output_type": "display_data"
    }
   ],
   "source": [
    "#Testing perfomance of the model on the test data, plotting ROC curves\n",
    "#SET 2\n",
    "\n",
    "from sklearn.naive_bayes import MultinomialNB\n",
    "from sklearn.metrics import roc_curve, auc\n",
    "\n",
    "mnb2 = MultinomialNB(alpha = best_alpha)\n",
    "mnb2.fit(X_tr_2, Y_train)\n",
    "\n",
    "Y_train_2_pred = mnb2.predict_proba(X_tr_2)[:,1] # This will give us the first value , i.e. P(yi=1) as we need only that for the ROC_AUC curve\n",
    "Y_test_2_pred = mnb2.predict_proba(X_te_2)[:,1]\n",
    "\n",
    "#print(Y_train_pred)\n",
    "\n",
    "train_2_fpr, train_2_tpr , train_2_thresholds = roc_curve(Y_train, Y_train_2_pred)\n",
    "test_2_fpr, test_2_tpr , test_2_thresholds = roc_curve(Y_test, Y_test_2_pred)\n",
    "\n",
    "plt.plot(train_2_fpr, train_2_tpr, label=\"Train AUC=\"+str(auc(train_2_fpr, train_2_tpr)))\n",
    "plt.plot(test_2_fpr, test_2_tpr, label=\"Test AUC=\"+str(auc(test_2_fpr, test_2_tpr)))\n",
    "\n",
    "plt.xlabel(\"False Positve Rate(FPR)\")\n",
    "plt.ylabel(\"True Positive Rate(TPR)\")\n",
    "plt.title(\"ROC Curve for Set 2 with best_alpha = 3\")\n",
    "plt.legend()\n",
    "plt.grid()\n",
    "plt.show()\n"
   ]
  },
  {
   "cell_type": "code",
   "execution_count": 55,
   "metadata": {},
   "outputs": [
    {
     "data": {
      "image/png": "[encoded data removed]",
      "text/plain": [
       "<Figure size 432x288 with 1 Axes>"
      ]
     },
     "metadata": {
      "needs_background": "light"
     },
     "output_type": "display_data"
    },
    {
     "data": {
      "image/png": "[encoded data removed]",
      "text/plain": [
       "<Figure size 432x288 with 1 Axes>"
      ]
     },
     "metadata": {
      "needs_background": "light"
     },
     "output_type": "display_data"
    }
   ],
   "source": [
    "#Combined ROCplots for Set 1 and Set 2\n",
    "\n",
    "plt.plot(train_1_fpr, train_1_tpr, label=\"Train AUC=\"+str(auc(train_1_fpr, train_1_tpr)))\n",
    "plt.plot(test_1_fpr, test_1_tpr, label=\"Test AUC=\"+str(auc(test_1_fpr, test_1_tpr)))\n",
    "\n",
    "plt.xlabel(\"False Positve Rate(FPR)\")\n",
    "plt.ylabel(\"True Positive Rate(TPR)\")\n",
    "plt.title(\"ROC Curve for Set 1\")\n",
    "plt.legend()\n",
    "plt.grid()\n",
    "plt.show()\n",
    "\n",
    "\n",
    "train_2_fpr, train_2_tpr , train_2_thresholds = roc_curve(Y_train, Y_train_2_pred)\n",
    "test_2_fpr, test_2_tpr , test_2_thresholds = roc_curve(Y_test, Y_test_2_pred)\n",
    "\n",
    "plt.plot(train_2_fpr, train_2_tpr, label=\"Train AUC=\"+str(auc(train_2_fpr, train_2_tpr)))\n",
    "plt.plot(test_2_fpr, test_2_tpr, label=\"Test AUC=\"+str(auc(test_2_fpr, test_2_tpr)))\n",
    "\n",
    "plt.xlabel(\"False Positve Rate(FPR)\")\n",
    "plt.ylabel(\"True Positive Rate(TPR)\")\n",
    "plt.title(\"ROC Curve for Set 2\")\n",
    "plt.legend()\n",
    "plt.grid()\n",
    "plt.show()"
   ]
  },
  {
   "cell_type": "code",
   "execution_count": 56,
   "metadata": {},
   "outputs": [
    {
     "name": "stdout",
     "output_type": "stream",
     "text": [
      "0.8415674480690267\n",
      "The maximum value of tpr*(i-fpr) = 0.4526922667322096 for threshold 0.842\n",
      "Train Confusion Matrix:\n",
      "[[ 3574  1791]\n",
      " [ 9016 19119]]\n",
      "\n",
      "\n",
      "Test Confusion Matrix:\n",
      "[[1596 1046]\n",
      " [4656 9202]]\n"
     ]
    }
   ],
   "source": [
    "# CALCULATING THE CONFUSION MATRIX for both SET 2\n",
    "from sklearn.metrics import confusion_matrix\n",
    "best_t = find_best_threshold(train_2_thresholds, train_2_fpr, train_2_tpr)\n",
    "print(\"Train Confusion Matrix:\")\n",
    "CM_train_2 = confusion_matrix(Y_train, predict_with_best_t(Y_train_2_pred, best_t))\n",
    "print(CM_train_2)\n",
    "print(\"\\n\")\n",
    "print(\"Test Confusion Matrix:\")\n",
    "CM_test_2 =confusion_matrix(Y_test, predict_with_best_t(Y_test_2_pred, best_t))\n",
    "print(CM_test_2)"
   ]
  },
  {
   "cell_type": "code",
   "execution_count": 57,
   "metadata": {},
   "outputs": [
    {
     "data": {
      "image/png": "[encoded data removed]",
      "text/plain": [
       "<Figure size 432x288 with 2 Axes>"
      ]
     },
     "metadata": {
      "needs_background": "light"
     },
     "output_type": "display_data"
    }
   ],
   "source": [
    "#https://medium.com/@dtuk81/confusion-matrix-visualization-fc31e3f30fea\n",
    "#https://stackoverflow.com/questions/35572000/how-can-i-plot-a-confusion-matrix\n",
    "import seaborn as sns\n",
    "import matplotlib.pyplot as plt     \n",
    "\n",
    "ax= plt.subplot();\n",
    "#labels = ['True Neg','False Pos','False Neg','True Pos']\n",
    "#labels = np.asarray(labels).reshape(2,2)\n",
    "sns.heatmap(CM_train_2, annot=True,fmt=\"d\",cmap='Blues',ax=ax);\n",
    "#CM1_percentage = CM1/np.sum(CM1)\n",
    "#print(CM1_percentage)\n",
    "#sns.heatmap(CM1_percentage, annot=True,fmt=\".2%\",cmap='Blues',ax=ax);\n",
    "\n",
    "#sns.heatmap(CM1, annot=True,fmt=\"d\",cmap='Blues',ax=ax);\n",
    "# labels, title and ticks\n",
    "ax.set_xlabel('Predicted labels');ax.set_ylabel('True labels'); \n",
    "ax.set_ylim(2.0, 0)\n",
    "ax.set_title('Confusion Matrix Train Dataset for Set 2');\n",
    "ax.xaxis.set_ticklabels(['0','1']); \n",
    "ax.yaxis.set_ticklabels(['0','1']);"
   ]
  },
  {
   "cell_type": "code",
   "execution_count": 58,
   "metadata": {},
   "outputs": [
    {
     "data": {
      "image/png": "[encoded data removed]",
      "text/plain": [
       "<Figure size 432x288 with 2 Axes>"
      ]
     },
     "metadata": {
      "needs_background": "light"
     },
     "output_type": "display_data"
    }
   ],
   "source": [
    "#https://medium.com/@dtuk81/confusion-matrix-visualization-fc31e3f30fea\n",
    "#https://stackoverflow.com/questions/35572000/how-can-i-plot-a-confusion-matrix\n",
    "\n",
    "#Confusion Matrix - SET 2 Test\n",
    "\n",
    "import seaborn as sns\n",
    "import matplotlib.pyplot as plt     \n",
    "\n",
    "ax= plt.subplot();\n",
    "#labels = ['True Neg','False Pos','False Neg','True Pos']\n",
    "#labels = np.asarray(labels).reshape(2,2)\n",
    "sns.heatmap(CM_test_2, annot=True,fmt=\"d\",cmap='Blues',ax=ax);\n",
    "\n",
    "ax.set_xlabel('Predicted labels');ax.set_ylabel('True labels'); \n",
    "ax.set_ylim(2.0, 0)\n",
    "ax.set_title('Confusion Matrix Test Dataset for Set 2');\n",
    "ax.xaxis.set_ticklabels(['0','1']); \n",
    "ax.yaxis.set_ticklabels(['0','1']);"
   ]
  },
  {
   "cell_type": "code",
   "execution_count": 59,
   "metadata": {},
   "outputs": [
    {
     "data": {
      "image/png": "[encoded data removed]",
      "text/plain": [
       "<Figure size 432x288 with 2 Axes>"
      ]
     },
     "metadata": {
      "needs_background": "light"
     },
     "output_type": "display_data"
    }
   ],
   "source": [
    "#https://medium.com/@dtuk81/confusion-matrix-visualization-fc31e3f30fea\n",
    "#https://stackoverflow.com/questions/35572000/how-can-i-plot-a-confusion-matrix\n",
    "import seaborn as sns\n",
    "import matplotlib.pyplot as plt     \n",
    "\n",
    "ax= plt.subplot();\n",
    "#labels = ['True Neg','False Pos','False Neg','True Pos']\n",
    "#labels = np.asarray(labels).reshape(2,2)\n",
    "#sns.heatmap(CM_test_2, annot=True,fmt=\"d\",cmap='Blues',ax=ax);\n",
    "CM_test_2_percentage = CM_test_2/np.sum(CM_test_2)\n",
    "#print(CM_test_2_percentage)\n",
    "sns.heatmap(CM_test_2_percentage, annot=True,fmt=\".2%\",cmap='Blues',ax=ax);\n",
    "\n",
    "#sns.heatmap(CM1, annot=True,fmt=\"d\",cmap='Blues',ax=ax);\n",
    "# labels, title and ticks\n",
    "ax.set_xlabel('Predicted labels');ax.set_ylabel('True labels'); \n",
    "ax.set_ylim(2.0, 0)\n",
    "ax.set_title('Confusion Matrix Test in Percentage for Set 2');\n",
    "ax.xaxis.set_ticklabels(['0','1']); \n",
    "ax.yaxis.set_ticklabels(['0','1']);"
   ]
  },
  {
   "cell_type": "code",
   "execution_count": 60,
   "metadata": {},
   "outputs": [
    {
     "data": {
      "image/png": "[encoded data removed]",
      "text/plain": [
       "<Figure size 432x288 with 2 Axes>"
      ]
     },
     "metadata": {
      "needs_background": "light"
     },
     "output_type": "display_data"
    }
   ],
   "source": [
    "#https://medium.com/@dtuk81/confusion-matrix-visualization-fc31e3f30fea\n",
    "#https://stackoverflow.com/questions/35572000/how-can-i-plot-a-confusion-matrix\n",
    "import seaborn as sns\n",
    "import matplotlib.pyplot as plt     \n",
    "\n",
    "ax= plt.subplot();\n",
    "labels = ['True Neg','False Pos','False Neg','True Pos']\n",
    "labels = np.asarray(labels).reshape(2,2)\n",
    "sns.heatmap(CM_test_2, annot=labels ,fmt='',cmap='Blues',ax=ax);\n",
    "# labels, title and ticks\n",
    "ax.set_xlabel('Predicted labels');ax.set_ylabel('True labels'); \n",
    "ax.set_ylim(2.0, 0)\n",
    "ax.set_title('Confusion Matrix for Test Data Set 2');\n",
    "ax.xaxis.set_ticklabels(['0','1']); \n",
    "ax.yaxis.set_ticklabels(['0','1']);"
   ]
  },
  {
   "cell_type": "code",
   "execution_count": 61,
   "metadata": {},
   "outputs": [
    {
     "name": "stdout",
     "output_type": "stream",
     "text": [
      "Total number of features in Set 1 is: 5071\n",
      "Shape of X_tr_1 is  (33500, 5071)\n"
     ]
    }
   ],
   "source": [
    "#SET 1 Get All Feature Names:\n",
    "set_1_all_feature_names =[]\n",
    "for i in vectorizer_essay_1.get_feature_names():\n",
    "    set_1_all_feature_names.append(i)\n",
    "    \n",
    "for i in vectorizer_tea_pre.get_feature_names():\n",
    "    set_1_all_feature_names.append(i)  \n",
    "    \n",
    "for i in vectorizer_pro_gra_ohe.get_feature_names():\n",
    "    set_1_all_feature_names.append(i)\n",
    "    \n",
    "for i in vectorizer_state_ohe.get_feature_names():\n",
    "    set_1_all_feature_names.append(i)\n",
    "\n",
    "for i in vectorizer_clean_cat_ohe.get_feature_names():\n",
    "    set_1_all_feature_names.append(i)\n",
    "    \n",
    "#print(len(set_1_all_feature_names))\n",
    "\n",
    "\n",
    "set_1_all_feature_names.append('Price')\n",
    "set_1_all_feature_names.append('teacher_number_of_previously_posted_projects')\n",
    "\n",
    "print(\"Total number of features in Set 1 is:\",len(set_1_all_feature_names))\n",
    "print(\"Shape of X_tr_1 is \",X_tr_1.shape)"
   ]
  },
  {
   "cell_type": "code",
   "execution_count": 62,
   "metadata": {},
   "outputs": [
    {
     "name": "stdout",
     "output_type": "stream",
     "text": [
      "Total number of features in Set 2is : 5071\n",
      "Shape of X_tr_2 is (33500, 5071)\n"
     ]
    }
   ],
   "source": [
    "#SET 2 Get All Feature Names:\n",
    "\n",
    "set_2_all_feature_names =[]\n",
    "for i in vectorizer_essay_1.get_feature_names():\n",
    "    set_2_all_feature_names.append(i)\n",
    "    \n",
    "for i in vectorizer_tea_pre.get_feature_names():\n",
    "    set_2_all_feature_names.append(i)  \n",
    "    \n",
    "for i in vectorizer_pro_gra_ohe.get_feature_names():\n",
    "    set_2_all_feature_names.append(i)\n",
    "    \n",
    "for i in vectorizer_state_ohe.get_feature_names():\n",
    "    set_2_all_feature_names.append(i)\n",
    "\n",
    "for i in vectorizer_clean_cat_ohe.get_feature_names():\n",
    "    set_2_all_feature_names.append(i)\n",
    "    \n",
    "#print(len(set_2_all_feature_names))\n",
    "\n",
    "\n",
    "set_2_all_feature_names.append('Price')\n",
    "set_2_all_feature_names.append('teacher_number_of_previously_posted_projects')\n",
    "\n",
    "print(\"Total number of features in Set 2is :\",len(set_2_all_feature_names))\n",
    "print(\"Shape of X_tr_2 is\", X_tr_2.shape)"
   ]
  },
  {
   "cell_type": "code",
   "execution_count": 63,
   "metadata": {},
   "outputs": [
    {
     "name": "stdout",
     "output_type": "stream",
     "text": [
      "Top ten NEGATIVE features for SET 1\n",
      "Index ---- feature----probability value\n",
      "3997 ------ students ----- 0.03928936673209665\n",
      "3583 ------ school ----- 0.013163633292833227\n",
      "2299 ------ learning ----- 0.009948699766880023\n",
      "2762 ------ my ----- 0.009032736948042954\n",
      "674 ------ classroom ----- 0.008636068532900464\n",
      "2913 ------ not ----- 0.007003543415741481\n",
      "2241 ------ learn ----- 0.006870254297750057\n",
      "4460 ------ they ----- 0.006417071296579208\n",
      "1858 ------ help ----- 0.006413872357747419\n",
      "4400 ------ the ----- 0.006276317987980262\n",
      "====================================================================================================\n",
      "Top ten POSITIVE features for SET 2\n",
      "Index ---- feature----probability value\n",
      "5002 ------ mrs ----- 0.03357284029228785\n",
      "5064 ------ literacy_language ----- 0.028563597864283932\n",
      "5008 ------ grades_prek_2 ----- 0.027459866481842392\n",
      "5065 ------ math_science ----- 0.025288790465830997\n",
      "5003 ------ ms ----- 0.023687773515476223\n",
      "5005 ------ grades_3_5 ----- 0.021310505922525202\n",
      "5062 ------ health_sports ----- 0.010891766828928652\n",
      "5006 ------ grades_6_8 ----- 0.010176160767785226\n",
      "5013 ------ ca ----- 0.008781335394370088\n",
      "5067 ------ specialneeds ----- 0.008247663077585165\n"
     ]
    }
   ],
   "source": [
    "\n",
    "#print top negative features for SET1 and SET 2\n",
    "\n",
    "import math\n",
    "# mnb1 is MultinomialNB for set 1\n",
    "negative_probabilities = mnb1.feature_log_prob_[0]\n",
    "#print(negative_probabilities)\n",
    "negative_indices_sorted = negative_probabilities.argsort()\n",
    "#print(negative_indices_sorted)\n",
    "#Reverse the order\n",
    "negative_indices_sorted = np.flip(negative_indices_sorted)\n",
    "#print(negative_indices_sorted)\n",
    "print(\"Top ten NEGATIVE features for SET 1\")\n",
    "print(\"Index ---- feature----probability value\")\n",
    "for i in range (10):\n",
    "    index = negative_indices_sorted[i]\n",
    "    feature = set_1_all_feature_names[index]\n",
    "    probability = negative_probabilities[index] \n",
    "    #probabilites are given in log format so calculate exp() for them to get the Probability values\n",
    "    probability = math.exp(probability)\n",
    "    print(index,'------',feature,'-----', probability)\n",
    "    \n",
    "print(\"=\"*100)\n",
    "\n",
    "# mnb2 is MultinomialNB for set 2\n",
    "negative_probabilities = mnb2.feature_log_prob_[0]\n",
    "#print(negative_probabilities)\n",
    "negative_indices_sorted = negative_probabilities.argsort()\n",
    "#print(negative_indices_sorted)\n",
    "#Reverse the order\n",
    "negative_indices_sorted = np.flip(negative_indices_sorted)\n",
    "#print(negative_indices_sorted)\n",
    "print(\"Top ten POSITIVE features for SET 2\")\n",
    "print(\"Index ---- feature----probability value\")\n",
    "for i in range (10):\n",
    "    index = negative_indices_sorted[i]\n",
    "    feature = set_2_all_feature_names[index]\n",
    "    probability = negative_probabilities[index]\n",
    "    probability = math.exp(probability)\n",
    "    print(index,'------',feature,'-----', probability)\n",
    "    "
   ]
  },
  {
   "cell_type": "code",
   "execution_count": 64,
   "metadata": {},
   "outputs": [
    {
     "name": "stdout",
     "output_type": "stream",
     "text": [
      "Top ten NEGATIVE features for SET 1\n",
      "Index ---- feature----probability value\n",
      "3997 ------ students ----- 0.04034193223263942\n",
      "3583 ------ school ----- 0.01282369840531816\n",
      "2762 ------ my ----- 0.009332365470192582\n",
      "674 ------ classroom ----- 0.009050463859951695\n",
      "2299 ------ learning ----- 0.00901870852997985\n",
      "4400 ------ the ----- 0.007103258196954088\n",
      "2913 ------ not ----- 0.006717713423860302\n",
      "4460 ------ they ----- 0.006551533690940147\n",
      "2241 ------ learn ----- 0.006450033525815415\n",
      "2782 ------ my students ----- 0.00632749301935963\n",
      "====================================================================================================\n",
      "\n",
      "Top ten POSITIVE features for SET 2\n",
      "Index ---- feature----probability value\n",
      "5002 ------ mrs ----- 0.03644710429539556\n",
      "5064 ------ literacy_language ----- 0.03255148119576926\n",
      "5008 ------ grades_prek_2 ----- 0.027741921888656675\n",
      "5065 ------ math_science ----- 0.02411016488567993\n",
      "5003 ------ ms ----- 0.02359922417125851\n",
      "5005 ------ grades_3_5 ----- 0.023234609201342737\n",
      "5062 ------ health_sports ----- 0.01235612967129015\n",
      "5006 ------ grades_6_8 ----- 0.010139654459433795\n",
      "5013 ------ ca ----- 0.010053298282348478\n",
      "3997 ------ students ----- 0.00830114186698924\n"
     ]
    }
   ],
   "source": [
    "#print top negative features for SET1 and SET 2\n",
    "import math\n",
    "# mnb1 is MultinomialNB for set 1\n",
    "negative_probabilities = mnb1.feature_log_prob_[1]\n",
    "#print(negative_probabilities)\n",
    "negative_indices_sorted = negative_probabilities.argsort()\n",
    "#print(negative_indices_sorted)\n",
    "#Reverse the order\n",
    "negative_indices_sorted = np.flip(negative_indices_sorted)\n",
    "#print(negative_indices_sorted)\n",
    "print(\"Top ten NEGATIVE features for SET 1\")\n",
    "print(\"Index ---- feature----probability value\")\n",
    "for i in range (10):\n",
    "    index = negative_indices_sorted[i]\n",
    "    feature = set_1_all_feature_names[index]\n",
    "    probability = negative_probabilities[index] \n",
    "    #probabilites are given in log format so calculate exp() for them to get the Probability values\n",
    "    probability = math.exp(probability)\n",
    "    print(index,'------',feature,'-----', probability)\n",
    "    \n",
    "print(\"=\"*100)\n",
    "\n",
    "# mnb2 is MultinomialNB for set 2\n",
    "negative_probabilities = mnb2.feature_log_prob_[1]\n",
    "#print(negative_probabilities)\n",
    "negative_indices_sorted = negative_probabilities.argsort()\n",
    "#print(negative_indices_sorted)\n",
    "#Reverse the order\n",
    "negative_indices_sorted = np.flip(negative_indices_sorted)\n",
    "#print(negative_indices_sorted)\n",
    "print(\"\\nTop ten POSITIVE features for SET 2\")\n",
    "print(\"Index ---- feature----probability value\")\n",
    "for i in range (10):\n",
    "    index = negative_indices_sorted[i]\n",
    "    feature = set_2_all_feature_names[index]\n",
    "    probability = negative_probabilities[index]\n",
    "    probability = math.exp(probability)\n",
    "    print(index,'------',feature,'-----', probability)\n",
    "    "
   ]
  },
  {
   "cell_type": "code",
   "execution_count": null,
   "metadata": {},
   "outputs": [],
   "source": [
    "clf = RandomizedSearchCV(dt, parameters, cv=3, scoring= 'roc_auc', return_train_score= True, n_jobs = -1)\n"
   ]
  },
  {
   "cell_type": "markdown",
   "metadata": {
    "colab_type": "text",
    "id": "lS9hIHdib3dp"
   },
   "source": [
    "<h1>3. Summary</h1>\n",
    "\n",
    "<br> as mentioned in the step 5 of instructions"
   ]
  },
  {
   "cell_type": "code",
   "execution_count": 76,
   "metadata": {},
   "outputs": [
    {
     "data": {
      "text/html": [
       "<div>\n",
       "<style scoped>\n",
       "    .dataframe tbody tr th:only-of-type {\n",
       "        vertical-align: middle;\n",
       "    }\n",
       "\n",
       "    .dataframe tbody tr th {\n",
       "        vertical-align: top;\n",
       "    }\n",
       "\n",
       "    .dataframe thead th {\n",
       "        text-align: right;\n",
       "    }\n",
       "</style>\n",
       "<table border=\"1\" class=\"dataframe\">\n",
       "  <thead>\n",
       "    <tr style=\"text-align: right;\">\n",
       "      <th></th>\n",
       "      <th>Vectorizer</th>\n",
       "      <th>Model</th>\n",
       "      <th>Hyperparameter</th>\n",
       "      <th>AUC</th>\n",
       "    </tr>\n",
       "  </thead>\n",
       "  <tbody>\n",
       "    <tr>\n",
       "      <th>0</th>\n",
       "      <td>Bag of words</td>\n",
       "      <td>RandomSearchCV</td>\n",
       "      <td>alpha= 5</td>\n",
       "      <td>0.69</td>\n",
       "    </tr>\n",
       "    <tr>\n",
       "      <th>1</th>\n",
       "      <td>tfidf</td>\n",
       "      <td>RandomSearchCV</td>\n",
       "      <td>alpha = 1</td>\n",
       "      <td>0.68</td>\n",
       "    </tr>\n",
       "  </tbody>\n",
       "</table>\n",
       "</div>"
      ],
      "text/plain": [
       "     Vectorizer           Model Hyperparameter   AUC\n",
       "0  Bag of words  RandomSearchCV       alpha= 5  0.69\n",
       "1         tfidf  RandomSearchCV      alpha = 1  0.68"
      ]
     },
     "execution_count": 76,
     "metadata": {},
     "output_type": "execute_result"
    }
   ],
   "source": [
    "columns = [\"Vectorizer\",\"Model\" , \"Hyperparameter\", \"AUC\"]\n",
    "\n",
    "results = pd.DataFrame(columns = columns)\n",
    "results['Vectorizer'] = [\"Bag of words\", \"tfidf\"]\n",
    "results[\"Model\"] = [\"RandomSearchCV\", \"RandomSearchCV\"]\n",
    "results['Hyperparameter'] = [\"alpha= 5\", \"alpha = 1\"]\n",
    "results['AUC'] = [0.69,0.68]\n",
    "results \n",
    "\n"
   ]
  },
  {
   "cell_type": "markdown",
   "metadata": {},
   "source": [
    "<br> CONCULSIONS\n",
    "<br> 1. Using the class_prior [0.5,0.5] did not change the value of the best paramter obtained and also the test AUC value\n",
    "<br> 2. BOW (bag of words) and tfidf worked equally well and provided approximately same AUC\n",
    "<br> 3. Memory constraints allowed use of only 50K data points. Howver if 1000K data points could be taken, there may have been a chance to increase AUC values"
   ]
  },
  {
   "cell_type": "code",
   "execution_count": null,
   "metadata": {},
   "outputs": [],
   "source": []
  }
 ],
 "metadata": {
  "colab": {
   "collapsed_sections": [],
   "name": "6_Assignment_NB_Instructions.ipynb",
   "provenance": []
  },
  "kernelspec": {
   "display_name": "Python 3 (ipykernel)",
   "language": "python",
   "name": "python3"
  },
  "language_info": {
   "codemirror_mode": {
    "name": "ipython",
    "version": 3
   },
   "file_extension": ".py",
   "mimetype": "text/x-python",
   "name": "python",
   "nbconvert_exporter": "python",
   "pygments_lexer": "ipython3",
   "version": "3.10.9"
  }
 },
 "nbformat": 4,
 "nbformat_minor": 1
}
